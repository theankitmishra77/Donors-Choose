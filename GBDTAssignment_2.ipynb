{
 "cells": [
  {
   "cell_type": "markdown",
   "metadata": {
    "id": "8wqapAXjsc24"
   },
   "source": [
    "# Assignment 9: GBDT"
   ]
  },
  {
   "cell_type": "code",
   "execution_count": 1,
   "metadata": {
    "colab": {
     "base_uri": "https://localhost:8080/"
    },
    "id": "rIF8Ozioq_Hb",
    "outputId": "776a4156-8993-46ff-e825-a1412fd666c0"
   },
   "outputs": [
    {
     "name": "stdout",
     "output_type": "stream",
     "text": [
      "Mounted at /content/drive\n"
     ]
    }
   ],
   "source": [
    "from google.colab import drive\n",
    "drive.mount('/content/drive')"
   ]
  },
  {
   "cell_type": "markdown",
   "metadata": {
    "id": "8u5NhbnEsc2-"
   },
   "source": [
    "#### Response Coding: Example"
   ]
  },
  {
   "cell_type": "markdown",
   "metadata": {
    "id": "HIFWmwHKsc3A"
   },
   "source": [
    "<img src='http://i.imgur.com/TufZptV.jpg' width=700px>\n",
    "\n",
    "> The response tabel is built only on train dataset.\n",
    "> For a category which is not there in train data and present in test data, we will encode them with default values\n",
    "Ex: in our test data if have State: D then we encode it as [0.5, 0.05]"
   ]
  },
  {
   "cell_type": "markdown",
   "metadata": {
    "id": "3KwfGufDsc3D"
   },
   "source": [
    "<ol>\n",
    "    <li><strong>Apply GBDT on these feature sets</strong>\n",
    "        <ul>\n",
    "            <li><font color='red'>Set 1</font>: categorical(instead of one hot encoding, try <a href='https://www.appliedaicourse.com/course/applied-ai-course-online/lessons/handling-categorical-and-numerical-features/'>response coding</a>: use probability values), numerical features + project_title(TFIDF)+  preprocessed_eassay (TFIDF)+sentiment Score of eassay(check the bellow example, include all 4 values as 4 features)</li>\n",
    "            <li><font color='red'>Set 2</font>: categorical(instead of one hot encoding, try <a href='https://www.appliedaicourse.com/course/applied-ai-course-online/lessons/handling-categorical-and-numerical-features/'>response coding</a>: use probability values), numerical features + project_title(TFIDF W2V)+  preprocessed_eassay (TFIDF W2V)</li>        </ul>\n",
    "    </li>\n",
    "    <li><strong>The hyper paramter tuning (Consider any two hyper parameters)</strong>\n",
    "        <ul>\n",
    "    <li>Find the best hyper parameter which will give the maximum <a href='https://www.appliedaicourse.com/course/applied-ai-course-online/lessons/receiver-operating-characteristic-curve-roc-curve-and-auc-1/'>AUC</a> value</li>\n",
    "    <li>find the best hyper paramter using k-fold cross validation/simple cross validation data</li>\n",
    "    <li>use gridsearch cv or randomsearch cv or you can write your own for loops to do this task</li>\n",
    "        </ul>\n",
    "    </li>\n",
    "    <li>\n",
    "    <strong>Representation of results</strong>\n",
    "        <ul>\n",
    "    <li>You need to plot the performance of model both on train data and cross validation data for each hyper parameter, like shown in the figure\n",
    "    <img src='https://i.imgur.com/Gp2DQmh.jpg' width=500px> with X-axis as <strong>n_estimators</strong>, Y-axis as <strong>max_depth</strong>, and Z-axis as <strong>AUC Score</strong> , we have given the notebook which explains how to plot this 3d plot, you can find it in the same drive <i>3d_scatter_plot.ipynb</i></li>\n",
    "            <p style=\"text-align:center;font-size:30px;color:red;\"><strong>or</strong></p> <br>\n",
    "    <li>You need to plot the performance of model both on train data and cross validation data for each hyper parameter, like shown in the figure\n",
    "    <img src='https://i.imgur.com/fgN9aUP.jpg' width=300px> <a href='https://seaborn.pydata.org/generated/seaborn.heatmap.html'>seaborn heat maps</a> with rows as <strong>n_estimators</strong>, columns as <strong>max_depth</strong>, and values inside the cell representing <strong>AUC Score</strong> </li>\n",
    "    <li>You choose either of the plotting techniques out of 3d plot or heat map</li>\n",
    "    <li>Once after you found the best hyper parameter, you need to train your model with it, and find the AUC on test data and plot the ROC curve on both train and test.\n",
    "    <img src='https://i.imgur.com/wMQDTFe.jpg' width=300px></li>\n",
    "    <li>Along with plotting ROC curve, you need to print the <a href='https://www.appliedaicourse.com/course/applied-ai-course-online/lessons/confusion-matrix-tpr-fpr-fnr-tnr-1/'>confusion matrix</a> with predicted and original labels of test data points\n",
    "    <img src='https://i.imgur.com/IdN5Ctv.png' width=300px></li>\n",
    "            </ul>\n",
    "    <br>\n",
    "    <li>You need to summarize the results at the end of the notebook, summarize it in the table format\n",
    "        <img src='http://i.imgur.com/YVpIGGE.jpg' width=400px>\n",
    "    </li>\n",
    "</ol>"
   ]
  },
  {
   "cell_type": "code",
   "execution_count": 2,
   "metadata": {
    "colab": {
     "base_uri": "https://localhost:8080/"
    },
    "id": "j8S6npgNraEl",
    "outputId": "8db14db5-6a31-4416-df6c-d39683b99029"
   },
   "outputs": [
    {
     "name": "stdout",
     "output_type": "stream",
     "text": [
      "[nltk_data] Downloading package vader_lexicon to /root/nltk_data...\n"
     ]
    },
    {
     "data": {
      "text/plain": [
       "True"
      ]
     },
     "execution_count": 2,
     "metadata": {
      "tags": []
     },
     "output_type": "execute_result"
    }
   ],
   "source": [
    "import nltk\n",
    "nltk.download('vader_lexicon')"
   ]
  },
  {
   "cell_type": "code",
   "execution_count": 3,
   "metadata": {
    "colab": {
     "base_uri": "https://localhost:8080/"
    },
    "id": "iffa2_WGsc3H",
    "outputId": "d7d12e16-effe-456f-adee-a844edca45ba"
   },
   "outputs": [
    {
     "name": "stdout",
     "output_type": "stream",
     "text": [
      "neg: 0.01, neu: 0.745, pos: 0.245, compound: 0.9975, "
     ]
    },
    {
     "name": "stderr",
     "output_type": "stream",
     "text": [
      "/usr/local/lib/python3.7/dist-packages/nltk/twitter/__init__.py:20: UserWarning: The twython library has not been installed. Some functionality from the twitter package will not be available.\n",
      "  warnings.warn(\"The twython library has not been installed. \"\n"
     ]
    }
   ],
   "source": [
    "import nltk\n",
    "from nltk.sentiment.vader import SentimentIntensityAnalyzer\n",
    "\n",
    "# import nltk\n",
    "# nltk.download('vader_lexicon')\n",
    "\n",
    "sid = SentimentIntensityAnalyzer()\n",
    "\n",
    "for_sentiment = 'a person is a person no matter how small dr seuss i teach the smallest students with the biggest enthusiasm \\\n",
    "for learning my students learn in many different ways using all of our senses and multiple intelligences i use a wide range\\\n",
    "of techniques to help all my students succeed students in my class come from a variety of different backgrounds which makes\\\n",
    "for wonderful sharing of experiences and cultures including native americans our school is a caring community of successful \\\n",
    "learners which can be seen through collaborative student project based learning in and out of the classroom kindergarteners \\\n",
    "in my class love to work with hands on materials and have many different opportunities to practice a skill before it is\\\n",
    "mastered having the social skills to work cooperatively with friends is a crucial aspect of the kindergarten curriculum\\\n",
    "montana is the perfect place to learn about agriculture and nutrition my students love to role play in our pretend kitchen\\\n",
    "in the early childhood classroom i have had several kids ask me can we try cooking with real food i will take their idea \\\n",
    "and create common core cooking lessons where we learn important math and writing concepts while cooking delicious healthy \\\n",
    "food for snack time my students will have a grounded appreciation for the work that went into making the food and knowledge \\\n",
    "of where the ingredients came from as well as how it is healthy for their bodies this project would expand our learning of \\\n",
    "nutrition and agricultural cooking recipes by having us peel our own apples to make homemade applesauce make our own bread \\\n",
    "and mix up healthy plants from our classroom garden in the spring we will also create our own cookbooks to be printed and \\\n",
    "shared with families students will gain math and literature skills as well as a life long enjoyment for healthy cooking \\\n",
    "nannan'\n",
    "ss = sid.polarity_scores(for_sentiment)\n",
    "\n",
    "for k in ss:\n",
    "    print('{0}: {1}, '.format(k, ss[k]), end='')\n",
    "\n",
    "# we can use these 4 things as features/attributes (neg, neu, pos, compound)\n",
    "# neg: 0.0, neu: 0.753, pos: 0.247, compound: 0.93"
   ]
  },
  {
   "cell_type": "markdown",
   "metadata": {
    "id": "BOyTl7oKsc3W"
   },
   "source": [
    "<h1>1. GBDT (xgboost/lightgbm) </h1>"
   ]
  },
  {
   "cell_type": "markdown",
   "metadata": {
    "id": "VWge-b2Zsc3Z"
   },
   "source": [
    "## 1.1 Loading Data"
   ]
  },
  {
   "cell_type": "code",
   "execution_count": 4,
   "metadata": {
    "colab": {
     "base_uri": "https://localhost:8080/"
    },
    "id": "zCLcuDNuqisR",
    "outputId": "8df3e501-0334-4979-b452-054d5d781da0"
   },
   "outputs": [
    {
     "name": "stdout",
     "output_type": "stream",
     "text": [
      "[name: \"/device:CPU:0\"\n",
      "device_type: \"CPU\"\n",
      "memory_limit: 268435456\n",
      "locality {\n",
      "}\n",
      "incarnation: 14480625056394528097\n",
      "]\n"
     ]
    }
   ],
   "source": [
    "from tensorflow.python.client import device_lib\n",
    "print(device_lib.list_local_devices())"
   ]
  },
  {
   "cell_type": "code",
   "execution_count": 5,
   "metadata": {
    "colab": {
     "base_uri": "https://localhost:8080/"
    },
    "id": "5i3OF1HLqisR",
    "outputId": "d79b286a-ed5f-4988-83fc-d36611425a96"
   },
   "outputs": [
    {
     "name": "stdout",
     "output_type": "stream",
     "text": [
      "Requirement already satisfied: gensim in /usr/local/lib/python3.7/dist-packages (3.6.0)\n",
      "Requirement already satisfied: scipy>=0.18.1 in /usr/local/lib/python3.7/dist-packages (from gensim) (1.4.1)\n",
      "Requirement already satisfied: six>=1.5.0 in /usr/local/lib/python3.7/dist-packages (from gensim) (1.15.0)\n",
      "Requirement already satisfied: smart-open>=1.2.1 in /usr/local/lib/python3.7/dist-packages (from gensim) (5.1.0)\n",
      "Requirement already satisfied: numpy>=1.11.3 in /usr/local/lib/python3.7/dist-packages (from gensim) (1.19.5)\n"
     ]
    }
   ],
   "source": [
    "!pip install gensim\n",
    "%matplotlib inline\n",
    "import warnings\n",
    "warnings.filterwarnings(\"ignore\")\n",
    "\n",
    "import sqlite3\n",
    "import pandas as pd\n",
    "import numpy as np\n",
    "import nltk\n",
    "import string\n",
    "import matplotlib.pyplot as plt\n",
    "import seaborn as sns\n",
    "from sklearn.feature_extraction.text import TfidfTransformer\n",
    "from sklearn.feature_extraction.text import TfidfVectorizer\n",
    "\n",
    "from sklearn.feature_extraction.text import CountVectorizer\n",
    "from sklearn.metrics import confusion_matrix\n",
    "from sklearn import metrics\n",
    "from sklearn.metrics import roc_curve, auc\n",
    "from nltk.stem.porter import PorterStemmer\n",
    "\n",
    "import re\n",
    "# Tutorial about Python regular expressions: https://pymotw.com/2/re/\n",
    "import string\n",
    "from nltk.corpus import stopwords\n",
    "from nltk.stem import PorterStemmer\n",
    "from nltk.stem.wordnet import WordNetLemmatizer\n",
    "\n",
    "from gensim.models import Word2Vec\n",
    "from gensim.models import KeyedVectors\n",
    "import pickle\n",
    "\n",
    "from tqdm import tqdm\n",
    "import os\n",
    "from collections import Counter"
   ]
  },
  {
   "cell_type": "code",
   "execution_count": 6,
   "metadata": {
    "id": "WDZFu6-usc3d"
   },
   "outputs": [],
   "source": [
    "import pandas as pd\n",
    "project = pd.read_csv('/content/drive/MyDrive/train_data.csv',error_bad_lines=False, engine=\"python\")\n",
    "resource= pd.read_csv('/content/drive/MyDrive/resources.csv',error_bad_lines=False, engine=\"python\")"
   ]
  },
  {
   "cell_type": "code",
   "execution_count": 7,
   "metadata": {
    "colab": {
     "base_uri": "https://localhost:8080/"
    },
    "id": "qL_HLYfMqisS",
    "outputId": "1bb1f217-ebc2-435e-e830-049c5f08e117"
   },
   "outputs": [
    {
     "name": "stdout",
     "output_type": "stream",
     "text": [
      "Shape of Project: (109248, 17)\n",
      "Shape of Resource: (1541272, 4)\n"
     ]
    }
   ],
   "source": [
    "print(\"Shape of Project:\",project.shape)\n",
    "print(\"Shape of Resource:\",resource.shape)"
   ]
  },
  {
   "cell_type": "code",
   "execution_count": 8,
   "metadata": {
    "id": "ke9dm4L7qisS"
   },
   "outputs": [],
   "source": [
    "project['teacher_prefix'] = project['teacher_prefix'].fillna('Mrs.')"
   ]
  },
  {
   "cell_type": "code",
   "execution_count": 9,
   "metadata": {
    "colab": {
     "base_uri": "https://localhost:8080/"
    },
    "id": "6UM8BrcCqisS",
    "outputId": "dd045eaa-daeb-4fcc-87cb-fac7a8af5548"
   },
   "outputs": [
    {
     "data": {
      "text/plain": [
       "mrs        57272\n",
       "ms         38955\n",
       "mr         10648\n",
       "teacher     2360\n",
       "dr            13\n",
       "Name: teacher_prefix, dtype: int64"
      ]
     },
     "execution_count": 9,
     "metadata": {
      "tags": []
     },
     "output_type": "execute_result"
    }
   ],
   "source": [
    "project['teacher_prefix'] = project['teacher_prefix'].str.replace('.','')\n",
    "project['teacher_prefix'] = project['teacher_prefix'].str.lower()\n",
    "project['teacher_prefix'].value_counts()"
   ]
  },
  {
   "cell_type": "code",
   "execution_count": 10,
   "metadata": {
    "colab": {
     "base_uri": "https://localhost:8080/"
    },
    "id": "QDTGaJ26qisT",
    "outputId": "a3bce9f1-5859-4d3b-8339-85e352bf7f7b"
   },
   "outputs": [
    {
     "data": {
      "text/plain": [
       "ca    15388\n",
       "tx     7396\n",
       "ny     7318\n",
       "fl     6185\n",
       "nc     5091\n",
       "il     4350\n",
       "ga     3963\n",
       "sc     3936\n",
       "mi     3161\n",
       "pa     3109\n",
       "in     2620\n",
       "mo     2576\n",
       "oh     2467\n",
       "la     2394\n",
       "ma     2389\n",
       "wa     2334\n",
       "ok     2276\n",
       "nj     2237\n",
       "az     2147\n",
       "va     2045\n",
       "wi     1827\n",
       "al     1762\n",
       "ut     1731\n",
       "tn     1688\n",
       "ct     1663\n",
       "md     1514\n",
       "nv     1367\n",
       "ms     1323\n",
       "ky     1304\n",
       "or     1242\n",
       "mn     1208\n",
       "co     1111\n",
       "ar     1049\n",
       "id      693\n",
       "ia      666\n",
       "ks      634\n",
       "nm      557\n",
       "dc      516\n",
       "hi      507\n",
       "me      505\n",
       "wv      503\n",
       "nh      348\n",
       "ak      345\n",
       "de      343\n",
       "ne      309\n",
       "sd      300\n",
       "ri      285\n",
       "mt      245\n",
       "nd      143\n",
       "wy       98\n",
       "vt       80\n",
       "Name: school_state, dtype: int64"
      ]
     },
     "execution_count": 10,
     "metadata": {
      "tags": []
     },
     "output_type": "execute_result"
    }
   ],
   "source": [
    "project['school_state'] = project['school_state'].str.lower()\n",
    "project['school_state'].value_counts()"
   ]
  },
  {
   "cell_type": "code",
   "execution_count": 11,
   "metadata": {
    "id": "A9JXdoOVqisT"
   },
   "outputs": [],
   "source": [
    "# https://stackoverflow.com/a/47091490/4084039\n",
    "import re\n",
    "\n",
    "def decontracted(phrase):\n",
    "    # specific\n",
    "    phrase = re.sub(r\"won't\", \"will not\", phrase)\n",
    "    phrase = re.sub(r\"can\\'t\", \"can not\", phrase)\n",
    "\n",
    "    # general\n",
    "    phrase = re.sub(r\"n\\'t\", \" not\", phrase)\n",
    "    phrase = re.sub(r\"\\'re\", \" are\", phrase)\n",
    "    phrase = re.sub(r\"\\'s\", \" is\", phrase)\n",
    "    phrase = re.sub(r\"\\'d\", \" would\", phrase)\n",
    "    phrase = re.sub(r\"\\'ll\", \" will\", phrase)\n",
    "    phrase = re.sub(r\"\\'t\", \" not\", phrase)\n",
    "    phrase = re.sub(r\"\\'ve\", \" have\", phrase)\n",
    "    phrase = re.sub(r\"\\'m\", \" am\", phrase)\n",
    "    return phrase"
   ]
  },
  {
   "cell_type": "code",
   "execution_count": 12,
   "metadata": {
    "id": "ASV9IjL8qisT"
   },
   "outputs": [],
   "source": [
    "# https://gist.github.com/sebleier/554280\n",
    "# we are removing the words from the stop words list: 'no', 'nor', 'not'\n",
    "stopwords= ['i', 'me', 'my', 'myself', 'we', 'our', 'ours', 'ourselves', 'you', \"you're\", \"you've\",\\\n",
    "            \"you'll\", \"you'd\", 'your', 'yours', 'yourself', 'yourselves', 'he', 'him', 'his', 'himself', \\\n",
    "            'she', \"she's\", 'her', 'hers', 'herself', 'it', \"it's\", 'its', 'itself', 'they', 'them', 'their',\\\n",
    "            'theirs', 'themselves', 'what', 'which', 'who', 'whom', 'this', 'that', \"that'll\", 'these', 'those', \\\n",
    "            'am', 'is', 'are', 'was', 'were', 'be', 'been', 'being', 'have', 'has', 'had', 'having', 'do', 'does', \\\n",
    "            'did', 'doing', 'a', 'an', 'the', 'and', 'but', 'if', 'or', 'because', 'as', 'until', 'while', 'of', \\\n",
    "            'at', 'by', 'for', 'with', 'about', 'against', 'between', 'into', 'through', 'during', 'before', 'after',\\\n",
    "            'above', 'below', 'to', 'from', 'up', 'down', 'in', 'out', 'on', 'off', 'over', 'under', 'again', 'further',\\\n",
    "            'then', 'once', 'here', 'there', 'when', 'where', 'why', 'how', 'all', 'any', 'both', 'each', 'few', 'more',\\\n",
    "            'most', 'other', 'some', 'such', 'only', 'own', 'same', 'so', 'than', 'too', 'very', \\\n",
    "            's', 't', 'can', 'will', 'just', 'don', \"don't\", 'should', \"should've\", 'now', 'd', 'll', 'm', 'o', 're', \\\n",
    "            've', 'y', 'ain', 'aren', \"aren't\", 'couldn', \"couldn't\", 'didn', \"didn't\", 'doesn', \"doesn't\", 'hadn',\\\n",
    "            \"hadn't\", 'hasn', \"hasn't\", 'haven', \"haven't\", 'isn', \"isn't\", 'ma', 'mightn', \"mightn't\", 'mustn',\\\n",
    "            \"mustn't\", 'needn', \"needn't\", 'shan', \"shan't\", 'shouldn', \"shouldn't\", 'wasn', \"wasn't\", 'weren', \"weren't\", \\\n",
    "            'won', \"won't\", 'wouldn', \"wouldn't\"]"
   ]
  },
  {
   "cell_type": "code",
   "execution_count": 13,
   "metadata": {
    "id": "k58mKS5xqisT"
   },
   "outputs": [],
   "source": [
    "# Combining all the above stundents \n",
    "def preprocess_text(text_data):\n",
    "    from tqdm import tqdm\n",
    "    preprocessed_text = []\n",
    "    # tqdm is for printing the status bar\n",
    "    for sentance in tqdm(text_data):\n",
    "        sent = decontracted(sentance)\n",
    "        sent = sent.replace('\\\\r', ' ')\n",
    "        sent = sent.replace('\\\\n', ' ')\n",
    "        sent = sent.replace('\\\\\"', ' ')\n",
    "        sent = re.sub('[^A-Za-z0-9]+', ' ', sent)\n",
    "        # https://gist.github.com/sebleier/554280\n",
    "        sent = ' '.join(e for e in sent.split() if e.lower() not in stopwords)\n",
    "        preprocessed_text.append(sent.lower().strip())\n",
    "    return preprocessed_text"
   ]
  },
  {
   "cell_type": "code",
   "execution_count": 14,
   "metadata": {
    "id": "iMWwIxuVqisU"
   },
   "outputs": [],
   "source": [
    "# merge two column text dataframe: \n",
    "project[\"essay\"] = project[\"project_essay_1\"].map(str) +\\\n",
    "                   project[\"project_essay_2\"].map(str) + \\\n",
    "                   project[\"project_essay_3\"].map(str) + \\\n",
    "                   project[\"project_essay_4\"].map(str)"
   ]
  },
  {
   "cell_type": "code",
   "execution_count": 15,
   "metadata": {
    "colab": {
     "base_uri": "https://localhost:8080/"
    },
    "id": "9iEE2T20qisU",
    "outputId": "e9f460b2-5dc0-4fec-8edd-74d575307b01"
   },
   "outputs": [
    {
     "name": "stderr",
     "output_type": "stream",
     "text": [
      "100%|██████████| 109248/109248 [01:20<00:00, 1362.11it/s]\n"
     ]
    }
   ],
   "source": [
    "preprocessed_essays = preprocess_text(project['essay'].values)"
   ]
  },
  {
   "cell_type": "code",
   "execution_count": 16,
   "metadata": {
    "id": "emzpYPHPqisU"
   },
   "outputs": [],
   "source": [
    "project['essay'] = preprocessed_essays\n",
    "project.drop(['project_essay_1'], axis=1, inplace=True)\n",
    "project.drop(['project_essay_2'], axis=1, inplace=True)\n",
    "project.drop(['project_essay_3'], axis=1, inplace=True)\n",
    "project.drop(['project_essay_4'], axis=1, inplace=True)"
   ]
  },
  {
   "cell_type": "code",
   "execution_count": 17,
   "metadata": {
    "id": "M_welg74qisU"
   },
   "outputs": [],
   "source": [
    "price_data = resource.groupby('id').agg({'price':'sum', 'quantity':'sum'}).reset_index()"
   ]
  },
  {
   "cell_type": "code",
   "execution_count": 18,
   "metadata": {
    "id": "1TK5i_oAqisV"
   },
   "outputs": [],
   "source": [
    "project = pd.merge(project, price_data, on='id', how='left')"
   ]
  },
  {
   "cell_type": "code",
   "execution_count": 19,
   "metadata": {
    "id": "PysAPjszqisV"
   },
   "outputs": [],
   "source": [
    "project.drop(['project_resource_summary'], axis=1, inplace=True)\n",
    "project.drop(['Unnamed: 0'], axis=1, inplace=True)\n",
    "project.drop(['id'], axis=1, inplace=True)\n",
    "project.drop(['teacher_id'], axis=1, inplace=True)"
   ]
  },
  {
   "cell_type": "code",
   "execution_count": 20,
   "metadata": {
    "colab": {
     "base_uri": "https://localhost:8080/",
     "height": 655
    },
    "id": "lZtOHL8BqisV",
    "outputId": "b479bb12-82e7-4287-f19d-32944c854c80"
   },
   "outputs": [
    {
     "data": {
      "text/html": [
       "<div>\n",
       "<style scoped>\n",
       "    .dataframe tbody tr th:only-of-type {\n",
       "        vertical-align: middle;\n",
       "    }\n",
       "\n",
       "    .dataframe tbody tr th {\n",
       "        vertical-align: top;\n",
       "    }\n",
       "\n",
       "    .dataframe thead th {\n",
       "        text-align: right;\n",
       "    }\n",
       "</style>\n",
       "<table border=\"1\" class=\"dataframe\">\n",
       "  <thead>\n",
       "    <tr style=\"text-align: right;\">\n",
       "      <th></th>\n",
       "      <th>teacher_prefix</th>\n",
       "      <th>school_state</th>\n",
       "      <th>project_submitted_datetime</th>\n",
       "      <th>project_grade_category</th>\n",
       "      <th>project_subject_categories</th>\n",
       "      <th>project_subject_subcategories</th>\n",
       "      <th>project_title</th>\n",
       "      <th>teacher_number_of_previously_posted_projects</th>\n",
       "      <th>project_is_approved</th>\n",
       "      <th>essay</th>\n",
       "      <th>price</th>\n",
       "      <th>quantity</th>\n",
       "    </tr>\n",
       "  </thead>\n",
       "  <tbody>\n",
       "    <tr>\n",
       "      <th>0</th>\n",
       "      <td>mrs</td>\n",
       "      <td>in</td>\n",
       "      <td>2016-12-05 13:43:57</td>\n",
       "      <td>Grades PreK-2</td>\n",
       "      <td>Literacy &amp; Language</td>\n",
       "      <td>ESL, Literacy</td>\n",
       "      <td>Educational Support for English Learners at Home</td>\n",
       "      <td>0</td>\n",
       "      <td>0</td>\n",
       "      <td>students english learners working english seco...</td>\n",
       "      <td>154.60</td>\n",
       "      <td>23</td>\n",
       "    </tr>\n",
       "    <tr>\n",
       "      <th>1</th>\n",
       "      <td>mr</td>\n",
       "      <td>fl</td>\n",
       "      <td>2016-10-25 09:22:10</td>\n",
       "      <td>Grades 6-8</td>\n",
       "      <td>History &amp; Civics, Health &amp; Sports</td>\n",
       "      <td>Civics &amp; Government, Team Sports</td>\n",
       "      <td>Wanted: Projector for Hungry Learners</td>\n",
       "      <td>7</td>\n",
       "      <td>1</td>\n",
       "      <td>students arrive school eager learn polite gene...</td>\n",
       "      <td>299.00</td>\n",
       "      <td>1</td>\n",
       "    </tr>\n",
       "    <tr>\n",
       "      <th>2</th>\n",
       "      <td>ms</td>\n",
       "      <td>az</td>\n",
       "      <td>2016-08-31 12:03:56</td>\n",
       "      <td>Grades 6-8</td>\n",
       "      <td>Health &amp; Sports</td>\n",
       "      <td>Health &amp; Wellness, Team Sports</td>\n",
       "      <td>Soccer Equipment for AWESOME Middle School Stu...</td>\n",
       "      <td>1</td>\n",
       "      <td>0</td>\n",
       "      <td>true champions not always ones win guts mia ha...</td>\n",
       "      <td>516.85</td>\n",
       "      <td>22</td>\n",
       "    </tr>\n",
       "    <tr>\n",
       "      <th>3</th>\n",
       "      <td>mrs</td>\n",
       "      <td>ky</td>\n",
       "      <td>2016-10-06 21:16:17</td>\n",
       "      <td>Grades PreK-2</td>\n",
       "      <td>Literacy &amp; Language, Math &amp; Science</td>\n",
       "      <td>Literacy, Mathematics</td>\n",
       "      <td>Techie Kindergarteners</td>\n",
       "      <td>4</td>\n",
       "      <td>1</td>\n",
       "      <td>work unique school filled esl english second l...</td>\n",
       "      <td>232.90</td>\n",
       "      <td>4</td>\n",
       "    </tr>\n",
       "    <tr>\n",
       "      <th>4</th>\n",
       "      <td>mrs</td>\n",
       "      <td>tx</td>\n",
       "      <td>2016-07-11 01:10:09</td>\n",
       "      <td>Grades PreK-2</td>\n",
       "      <td>Math &amp; Science</td>\n",
       "      <td>Mathematics</td>\n",
       "      <td>Interactive Math Tools</td>\n",
       "      <td>1</td>\n",
       "      <td>1</td>\n",
       "      <td>second grade classroom next year made around 2...</td>\n",
       "      <td>67.98</td>\n",
       "      <td>4</td>\n",
       "    </tr>\n",
       "  </tbody>\n",
       "</table>\n",
       "</div>"
      ],
      "text/plain": [
       "  teacher_prefix school_state  ...   price quantity\n",
       "0            mrs           in  ...  154.60       23\n",
       "1             mr           fl  ...  299.00        1\n",
       "2             ms           az  ...  516.85       22\n",
       "3            mrs           ky  ...  232.90        4\n",
       "4            mrs           tx  ...   67.98        4\n",
       "\n",
       "[5 rows x 12 columns]"
      ]
     },
     "execution_count": 20,
     "metadata": {
      "tags": []
     },
     "output_type": "execute_result"
    }
   ],
   "source": [
    "project.head()"
   ]
  },
  {
   "cell_type": "code",
   "execution_count": 21,
   "metadata": {
    "id": "yHaUV_j5qisV"
   },
   "outputs": [],
   "source": [
    "catogories = list(project['project_subject_categories'].values)\n",
    "# remove special characters from list of strings python: https://stackoverflow.com/a/47301924/4084039\n",
    "\n",
    "# https://www.geeksforgeeks.org/removing-stop-words-nltk-python/\n",
    "# https://stackoverflow.com/questions/23669024/how-to-strip-a-specific-word-from-a-string\n",
    "# https://stackoverflow.com/questions/8270092/remove-all-whitespace-in-a-string-in-python\n",
    "category_list = []\n",
    "for i in catogories:\n",
    "    temp = \"\"\n",
    "    for j in i.split(','): \n",
    "        if 'The' in j.split(): \n",
    "            j=j.replace('The','') \n",
    "        j = j.replace(' ','') \n",
    "        temp+=j.strip()+\" \" \n",
    "        temp = temp.replace('&','_') \n",
    "    category_list.append(temp.strip())\n",
    "    \n",
    "project['clean_categories'] = category_list\n",
    "project.drop(['project_subject_categories'], axis=1, inplace=True)\n",
    "\n",
    "from collections import Counter\n",
    "my_counter = Counter()\n",
    "for word in project['clean_categories'].values:\n",
    "    my_counter.update(word.split())\n",
    "\n",
    "category_dict = dict(my_counter)\n",
    "sorted_category_dict = dict(sorted(category_dict.items(), key=lambda kv: kv[1]))"
   ]
  },
  {
   "cell_type": "code",
   "execution_count": 22,
   "metadata": {
    "id": "0IbaoalcqisV"
   },
   "outputs": [],
   "source": [
    "sub_catogories = list(project['project_subject_subcategories'].values)\n",
    "# remove special characters from list of strings python: https://stackoverflow.com/a/47301924/4084039\n",
    "\n",
    "# https://www.geeksforgeeks.org/removing-stop-words-nltk-python/\n",
    "# https://stackoverflow.com/questions/23669024/how-to-strip-a-specific-word-from-a-string\n",
    "# https://stackoverflow.com/questions/8270092/remove-all-whitespace-in-a-string-in-python\n",
    "\n",
    "sub_category_list = []\n",
    "for i in sub_catogories:\n",
    "    temp = \"\"\n",
    "    for j in i.split(','): \n",
    "        if 'The' in j.split(): \n",
    "            j=j.replace('The','') \n",
    "        j = j.replace(' ','')\n",
    "        temp +=j.strip()+\" \"\n",
    "        temp = temp.replace('&','_')\n",
    "    sub_category_list.append(temp.strip())\n",
    "\n",
    "project['clean_subcategories'] = sub_category_list\n",
    "project.drop(['project_subject_subcategories'], axis=1, inplace=True)\n",
    "\n",
    "# count of all the words in corpus python: https://stackoverflow.com/a/22898595/4084039\n",
    "my_counter = Counter()\n",
    "for word in project['clean_subcategories'].values:\n",
    "    my_counter.update(word.split())\n",
    "    \n",
    "sub_category_dict = dict(my_counter)\n",
    "sorted_sub_category_dict = dict(sorted(sub_category_dict.items(), key=lambda kv: kv[1]))"
   ]
  },
  {
   "cell_type": "code",
   "execution_count": 23,
   "metadata": {
    "colab": {
     "base_uri": "https://localhost:8080/"
    },
    "id": "-BAFuGnrqisW",
    "outputId": "4ffa2395-7a29-456b-8a68-46680fdec681"
   },
   "outputs": [
    {
     "data": {
      "text/plain": [
       "{'AppliedLearning': 12135,\n",
       " 'Care_Hunger': 1388,\n",
       " 'Health_Sports': 14223,\n",
       " 'History_Civics': 5914,\n",
       " 'Literacy_Language': 52239,\n",
       " 'Math_Science': 41421,\n",
       " 'Music_Arts': 10293,\n",
       " 'SpecialNeeds': 13642,\n",
       " 'Warmth': 1388}"
      ]
     },
     "execution_count": 23,
     "metadata": {
      "tags": []
     },
     "output_type": "execute_result"
    }
   ],
   "source": [
    "sorted_category_dict"
   ]
  },
  {
   "cell_type": "code",
   "execution_count": 24,
   "metadata": {
    "colab": {
     "base_uri": "https://localhost:8080/"
    },
    "id": "2Vq1tmXVqisW",
    "outputId": "5c7564e3-b7bc-4458-da27-553b6c17d445"
   },
   "outputs": [
    {
     "data": {
      "text/plain": [
       "{'AppliedSciences': 10816,\n",
       " 'Care_Hunger': 1388,\n",
       " 'CharacterEducation': 2065,\n",
       " 'Civics_Government': 815,\n",
       " 'College_CareerPrep': 2568,\n",
       " 'CommunityService': 441,\n",
       " 'ESL': 4367,\n",
       " 'EarlyDevelopment': 4254,\n",
       " 'Economics': 269,\n",
       " 'EnvironmentalScience': 5591,\n",
       " 'Extracurricular': 810,\n",
       " 'FinancialLiteracy': 568,\n",
       " 'ForeignLanguages': 890,\n",
       " 'Gym_Fitness': 4509,\n",
       " 'Health_LifeScience': 4235,\n",
       " 'Health_Wellness': 10234,\n",
       " 'History_Geography': 3171,\n",
       " 'Literacy': 33700,\n",
       " 'Literature_Writing': 22179,\n",
       " 'Mathematics': 28074,\n",
       " 'Music': 3145,\n",
       " 'NutritionEducation': 1355,\n",
       " 'Other': 2372,\n",
       " 'ParentInvolvement': 677,\n",
       " 'PerformingArts': 1961,\n",
       " 'SocialSciences': 1920,\n",
       " 'SpecialNeeds': 13642,\n",
       " 'TeamSports': 2192,\n",
       " 'VisualArts': 6278,\n",
       " 'Warmth': 1388}"
      ]
     },
     "execution_count": 24,
     "metadata": {
      "tags": []
     },
     "output_type": "execute_result"
    }
   ],
   "source": [
    "sorted_sub_category_dict"
   ]
  },
  {
   "cell_type": "code",
   "execution_count": 25,
   "metadata": {
    "id": "IS-1M42GqisW"
   },
   "outputs": [],
   "source": [
    "project['project_grade_category'] = project['project_grade_category'].str.replace(' ','_')\n",
    "project['project_grade_category'] = project['project_grade_category'].str.replace('-','_')\n",
    "project['project_grade_category'] = project['project_grade_category'].str.lower()"
   ]
  },
  {
   "cell_type": "code",
   "execution_count": 26,
   "metadata": {
    "colab": {
     "base_uri": "https://localhost:8080/",
     "height": 655
    },
    "id": "tQThWugAqisW",
    "outputId": "edb93ec7-f062-429a-bdba-68472904acc5"
   },
   "outputs": [
    {
     "data": {
      "text/html": [
       "<div>\n",
       "<style scoped>\n",
       "    .dataframe tbody tr th:only-of-type {\n",
       "        vertical-align: middle;\n",
       "    }\n",
       "\n",
       "    .dataframe tbody tr th {\n",
       "        vertical-align: top;\n",
       "    }\n",
       "\n",
       "    .dataframe thead th {\n",
       "        text-align: right;\n",
       "    }\n",
       "</style>\n",
       "<table border=\"1\" class=\"dataframe\">\n",
       "  <thead>\n",
       "    <tr style=\"text-align: right;\">\n",
       "      <th></th>\n",
       "      <th>teacher_prefix</th>\n",
       "      <th>school_state</th>\n",
       "      <th>project_submitted_datetime</th>\n",
       "      <th>project_grade_category</th>\n",
       "      <th>project_title</th>\n",
       "      <th>teacher_number_of_previously_posted_projects</th>\n",
       "      <th>project_is_approved</th>\n",
       "      <th>essay</th>\n",
       "      <th>price</th>\n",
       "      <th>quantity</th>\n",
       "      <th>clean_categories</th>\n",
       "      <th>clean_subcategories</th>\n",
       "    </tr>\n",
       "  </thead>\n",
       "  <tbody>\n",
       "    <tr>\n",
       "      <th>0</th>\n",
       "      <td>mrs</td>\n",
       "      <td>in</td>\n",
       "      <td>2016-12-05 13:43:57</td>\n",
       "      <td>grades_prek_2</td>\n",
       "      <td>Educational Support for English Learners at Home</td>\n",
       "      <td>0</td>\n",
       "      <td>0</td>\n",
       "      <td>students english learners working english seco...</td>\n",
       "      <td>154.60</td>\n",
       "      <td>23</td>\n",
       "      <td>Literacy_Language</td>\n",
       "      <td>ESL Literacy</td>\n",
       "    </tr>\n",
       "    <tr>\n",
       "      <th>1</th>\n",
       "      <td>mr</td>\n",
       "      <td>fl</td>\n",
       "      <td>2016-10-25 09:22:10</td>\n",
       "      <td>grades_6_8</td>\n",
       "      <td>Wanted: Projector for Hungry Learners</td>\n",
       "      <td>7</td>\n",
       "      <td>1</td>\n",
       "      <td>students arrive school eager learn polite gene...</td>\n",
       "      <td>299.00</td>\n",
       "      <td>1</td>\n",
       "      <td>History_Civics Health_Sports</td>\n",
       "      <td>Civics_Government TeamSports</td>\n",
       "    </tr>\n",
       "    <tr>\n",
       "      <th>2</th>\n",
       "      <td>ms</td>\n",
       "      <td>az</td>\n",
       "      <td>2016-08-31 12:03:56</td>\n",
       "      <td>grades_6_8</td>\n",
       "      <td>Soccer Equipment for AWESOME Middle School Stu...</td>\n",
       "      <td>1</td>\n",
       "      <td>0</td>\n",
       "      <td>true champions not always ones win guts mia ha...</td>\n",
       "      <td>516.85</td>\n",
       "      <td>22</td>\n",
       "      <td>Health_Sports</td>\n",
       "      <td>Health_Wellness TeamSports</td>\n",
       "    </tr>\n",
       "    <tr>\n",
       "      <th>3</th>\n",
       "      <td>mrs</td>\n",
       "      <td>ky</td>\n",
       "      <td>2016-10-06 21:16:17</td>\n",
       "      <td>grades_prek_2</td>\n",
       "      <td>Techie Kindergarteners</td>\n",
       "      <td>4</td>\n",
       "      <td>1</td>\n",
       "      <td>work unique school filled esl english second l...</td>\n",
       "      <td>232.90</td>\n",
       "      <td>4</td>\n",
       "      <td>Literacy_Language Math_Science</td>\n",
       "      <td>Literacy Mathematics</td>\n",
       "    </tr>\n",
       "    <tr>\n",
       "      <th>4</th>\n",
       "      <td>mrs</td>\n",
       "      <td>tx</td>\n",
       "      <td>2016-07-11 01:10:09</td>\n",
       "      <td>grades_prek_2</td>\n",
       "      <td>Interactive Math Tools</td>\n",
       "      <td>1</td>\n",
       "      <td>1</td>\n",
       "      <td>second grade classroom next year made around 2...</td>\n",
       "      <td>67.98</td>\n",
       "      <td>4</td>\n",
       "      <td>Math_Science</td>\n",
       "      <td>Mathematics</td>\n",
       "    </tr>\n",
       "  </tbody>\n",
       "</table>\n",
       "</div>"
      ],
      "text/plain": [
       "  teacher_prefix  ...           clean_subcategories\n",
       "0            mrs  ...                  ESL Literacy\n",
       "1             mr  ...  Civics_Government TeamSports\n",
       "2             ms  ...    Health_Wellness TeamSports\n",
       "3            mrs  ...          Literacy Mathematics\n",
       "4            mrs  ...                   Mathematics\n",
       "\n",
       "[5 rows x 12 columns]"
      ]
     },
     "execution_count": 26,
     "metadata": {
      "tags": []
     },
     "output_type": "execute_result"
    }
   ],
   "source": [
    "project.head()"
   ]
  },
  {
   "cell_type": "code",
   "execution_count": 27,
   "metadata": {
    "colab": {
     "base_uri": "https://localhost:8080/"
    },
    "id": "HQG2_nH9qisW",
    "outputId": "22e67018-30eb-4dbe-eadb-75d4fa3b5964"
   },
   "outputs": [
    {
     "name": "stderr",
     "output_type": "stream",
     "text": [
      "100%|██████████| 109248/109248 [00:03<00:00, 31605.14it/s]\n"
     ]
    }
   ],
   "source": [
    "preprocessed_titles = preprocess_text(project['project_title'].values)"
   ]
  },
  {
   "cell_type": "code",
   "execution_count": 28,
   "metadata": {
    "id": "3VVvS7tSqisX"
   },
   "outputs": [],
   "source": [
    "project['titles'] = preprocessed_titles\n",
    "project.drop(['project_title'], axis=1, inplace=True)"
   ]
  },
  {
   "cell_type": "code",
   "execution_count": 29,
   "metadata": {
    "colab": {
     "base_uri": "https://localhost:8080/"
    },
    "id": "OgBPWCghqisX",
    "outputId": "2b1c184a-12ad-4360-9961-90a584520706"
   },
   "outputs": [
    {
     "name": "stderr",
     "output_type": "stream",
     "text": [
      "100%|██████████| 109248/109248 [03:43<00:00, 489.05it/s]\n"
     ]
    }
   ],
   "source": [
    "negative=[];positive=[];neutral=[]; compound = []\n",
    "for i in tqdm(range(len(project['essay']))):\n",
    "    sentiment_scores = sid.polarity_scores(project['essay'][i])\n",
    "    negative.append(sentiment_scores['neg'])\n",
    "    positive.append(sentiment_scores['pos'])\n",
    "    neutral.append(sentiment_scores['neu'])    \n",
    "    compound.append(sentiment_scores['compound'])"
   ]
  },
  {
   "cell_type": "code",
   "execution_count": 30,
   "metadata": {
    "colab": {
     "base_uri": "https://localhost:8080/"
    },
    "id": "VIt1ZawyqisX",
    "outputId": "a27a0209-8b76-4158-af11-ee404eb24f01"
   },
   "outputs": [
    {
     "name": "stdout",
     "output_type": "stream",
     "text": [
      "109248\n",
      "109248\n",
      "109248\n",
      "109248\n"
     ]
    }
   ],
   "source": [
    "print(len(negative))\n",
    "print(len(positive))\n",
    "print(len(neutral))\n",
    "print(len(compound))"
   ]
  },
  {
   "cell_type": "code",
   "execution_count": 31,
   "metadata": {
    "colab": {
     "base_uri": "https://localhost:8080/",
     "height": 655
    },
    "id": "vPD8I8_cqisX",
    "outputId": "c378df58-32cf-4a08-a3a9-c8e2d868e3fe"
   },
   "outputs": [
    {
     "data": {
      "text/html": [
       "<div>\n",
       "<style scoped>\n",
       "    .dataframe tbody tr th:only-of-type {\n",
       "        vertical-align: middle;\n",
       "    }\n",
       "\n",
       "    .dataframe tbody tr th {\n",
       "        vertical-align: top;\n",
       "    }\n",
       "\n",
       "    .dataframe thead th {\n",
       "        text-align: right;\n",
       "    }\n",
       "</style>\n",
       "<table border=\"1\" class=\"dataframe\">\n",
       "  <thead>\n",
       "    <tr style=\"text-align: right;\">\n",
       "      <th></th>\n",
       "      <th>teacher_prefix</th>\n",
       "      <th>school_state</th>\n",
       "      <th>project_submitted_datetime</th>\n",
       "      <th>project_grade_category</th>\n",
       "      <th>teacher_number_of_previously_posted_projects</th>\n",
       "      <th>project_is_approved</th>\n",
       "      <th>essay</th>\n",
       "      <th>price</th>\n",
       "      <th>quantity</th>\n",
       "      <th>clean_categories</th>\n",
       "      <th>clean_subcategories</th>\n",
       "      <th>titles</th>\n",
       "      <th>negative</th>\n",
       "      <th>neutral</th>\n",
       "      <th>positive</th>\n",
       "      <th>compound</th>\n",
       "    </tr>\n",
       "  </thead>\n",
       "  <tbody>\n",
       "    <tr>\n",
       "      <th>0</th>\n",
       "      <td>mrs</td>\n",
       "      <td>in</td>\n",
       "      <td>2016-12-05 13:43:57</td>\n",
       "      <td>grades_prek_2</td>\n",
       "      <td>0</td>\n",
       "      <td>0</td>\n",
       "      <td>students english learners working english seco...</td>\n",
       "      <td>154.60</td>\n",
       "      <td>23</td>\n",
       "      <td>Literacy_Language</td>\n",
       "      <td>ESL Literacy</td>\n",
       "      <td>educational support english learners home</td>\n",
       "      <td>0.013</td>\n",
       "      <td>0.833</td>\n",
       "      <td>0.154</td>\n",
       "      <td>0.9694</td>\n",
       "    </tr>\n",
       "    <tr>\n",
       "      <th>1</th>\n",
       "      <td>mr</td>\n",
       "      <td>fl</td>\n",
       "      <td>2016-10-25 09:22:10</td>\n",
       "      <td>grades_6_8</td>\n",
       "      <td>7</td>\n",
       "      <td>1</td>\n",
       "      <td>students arrive school eager learn polite gene...</td>\n",
       "      <td>299.00</td>\n",
       "      <td>1</td>\n",
       "      <td>History_Civics Health_Sports</td>\n",
       "      <td>Civics_Government TeamSports</td>\n",
       "      <td>wanted projector hungry learners</td>\n",
       "      <td>0.052</td>\n",
       "      <td>0.643</td>\n",
       "      <td>0.305</td>\n",
       "      <td>0.9856</td>\n",
       "    </tr>\n",
       "    <tr>\n",
       "      <th>2</th>\n",
       "      <td>ms</td>\n",
       "      <td>az</td>\n",
       "      <td>2016-08-31 12:03:56</td>\n",
       "      <td>grades_6_8</td>\n",
       "      <td>1</td>\n",
       "      <td>0</td>\n",
       "      <td>true champions not always ones win guts mia ha...</td>\n",
       "      <td>516.85</td>\n",
       "      <td>22</td>\n",
       "      <td>Health_Sports</td>\n",
       "      <td>Health_Wellness TeamSports</td>\n",
       "      <td>soccer equipment awesome middle school students</td>\n",
       "      <td>0.128</td>\n",
       "      <td>0.643</td>\n",
       "      <td>0.230</td>\n",
       "      <td>0.9816</td>\n",
       "    </tr>\n",
       "    <tr>\n",
       "      <th>3</th>\n",
       "      <td>mrs</td>\n",
       "      <td>ky</td>\n",
       "      <td>2016-10-06 21:16:17</td>\n",
       "      <td>grades_prek_2</td>\n",
       "      <td>4</td>\n",
       "      <td>1</td>\n",
       "      <td>work unique school filled esl english second l...</td>\n",
       "      <td>232.90</td>\n",
       "      <td>4</td>\n",
       "      <td>Literacy_Language Math_Science</td>\n",
       "      <td>Literacy Mathematics</td>\n",
       "      <td>techie kindergarteners</td>\n",
       "      <td>0.110</td>\n",
       "      <td>0.634</td>\n",
       "      <td>0.256</td>\n",
       "      <td>0.9656</td>\n",
       "    </tr>\n",
       "    <tr>\n",
       "      <th>4</th>\n",
       "      <td>mrs</td>\n",
       "      <td>tx</td>\n",
       "      <td>2016-07-11 01:10:09</td>\n",
       "      <td>grades_prek_2</td>\n",
       "      <td>1</td>\n",
       "      <td>1</td>\n",
       "      <td>second grade classroom next year made around 2...</td>\n",
       "      <td>67.98</td>\n",
       "      <td>4</td>\n",
       "      <td>Math_Science</td>\n",
       "      <td>Mathematics</td>\n",
       "      <td>interactive math tools</td>\n",
       "      <td>0.070</td>\n",
       "      <td>0.779</td>\n",
       "      <td>0.151</td>\n",
       "      <td>0.8524</td>\n",
       "    </tr>\n",
       "  </tbody>\n",
       "</table>\n",
       "</div>"
      ],
      "text/plain": [
       "  teacher_prefix school_state  ... positive compound\n",
       "0            mrs           in  ...    0.154   0.9694\n",
       "1             mr           fl  ...    0.305   0.9856\n",
       "2             ms           az  ...    0.230   0.9816\n",
       "3            mrs           ky  ...    0.256   0.9656\n",
       "4            mrs           tx  ...    0.151   0.8524\n",
       "\n",
       "[5 rows x 16 columns]"
      ]
     },
     "execution_count": 31,
     "metadata": {
      "tags": []
     },
     "output_type": "execute_result"
    }
   ],
   "source": [
    "project['negative'] = negative\n",
    "project['neutral'] = neutral\n",
    "project['positive'] = positive\n",
    "project['compound'] = compound\n",
    "project.head()"
   ]
  },
  {
   "cell_type": "markdown",
   "metadata": {
    "id": "6lAMFKFcsc3j"
   },
   "source": [
    "<h2>1.2 Splitting data into Train and cross validation(or test): Stratified Sampling</h2>"
   ]
  },
  {
   "cell_type": "code",
   "execution_count": 32,
   "metadata": {
    "id": "ODMijuuNsc3l"
   },
   "outputs": [],
   "source": [
    "# please write all the code with proper documentation, and proper titles for each subsection\n",
    "# go through documentations and blogs before you start coding\n",
    "# first figure out what to do, and then think about how to do.\n",
    "# reading and understanding error messages will be very much helpfull in debugging your code\n",
    "# when you plot any graph make sure you use \n",
    "    # a. Title, that describes your plot, this will be very helpful to the reader\n",
    "    # b. Legends if needed\n",
    "    # c. X-axis label\n",
    "    # d. Y-axis label"
   ]
  },
  {
   "cell_type": "code",
   "execution_count": 33,
   "metadata": {
    "id": "XsTTw2-rqisY"
   },
   "outputs": [],
   "source": [
    "from sklearn.model_selection import train_test_split\n",
    "y=project['project_is_approved']\n",
    "x=project.drop(['project_is_approved'],axis=1)"
   ]
  },
  {
   "cell_type": "code",
   "execution_count": 34,
   "metadata": {
    "id": "ss1EMPC0qisY"
   },
   "outputs": [],
   "source": [
    "project_train, project_test,project_y_train, project_y_test = train_test_split(x, y, test_size=0.33, stratify = y)"
   ]
  },
  {
   "cell_type": "code",
   "execution_count": 35,
   "metadata": {
    "colab": {
     "base_uri": "https://localhost:8080/",
     "height": 622
    },
    "id": "etwA9r9iqisY",
    "outputId": "fcfb3d72-075d-47a4-99d8-f80136143c30"
   },
   "outputs": [
    {
     "data": {
      "text/html": [
       "<div>\n",
       "<style scoped>\n",
       "    .dataframe tbody tr th:only-of-type {\n",
       "        vertical-align: middle;\n",
       "    }\n",
       "\n",
       "    .dataframe tbody tr th {\n",
       "        vertical-align: top;\n",
       "    }\n",
       "\n",
       "    .dataframe thead th {\n",
       "        text-align: right;\n",
       "    }\n",
       "</style>\n",
       "<table border=\"1\" class=\"dataframe\">\n",
       "  <thead>\n",
       "    <tr style=\"text-align: right;\">\n",
       "      <th></th>\n",
       "      <th>teacher_prefix</th>\n",
       "      <th>school_state</th>\n",
       "      <th>project_submitted_datetime</th>\n",
       "      <th>project_grade_category</th>\n",
       "      <th>teacher_number_of_previously_posted_projects</th>\n",
       "      <th>essay</th>\n",
       "      <th>price</th>\n",
       "      <th>quantity</th>\n",
       "      <th>clean_categories</th>\n",
       "      <th>clean_subcategories</th>\n",
       "      <th>titles</th>\n",
       "      <th>negative</th>\n",
       "      <th>neutral</th>\n",
       "      <th>positive</th>\n",
       "      <th>compound</th>\n",
       "    </tr>\n",
       "  </thead>\n",
       "  <tbody>\n",
       "    <tr>\n",
       "      <th>26835</th>\n",
       "      <td>mrs</td>\n",
       "      <td>nv</td>\n",
       "      <td>2016-09-16 13:16:02</td>\n",
       "      <td>grades_3_5</td>\n",
       "      <td>36</td>\n",
       "      <td>students dedicated polite great year far want ...</td>\n",
       "      <td>147.64</td>\n",
       "      <td>12</td>\n",
       "      <td>Math_Science</td>\n",
       "      <td>AppliedSciences Mathematics</td>\n",
       "      <td>shockingly good workers</td>\n",
       "      <td>0.018</td>\n",
       "      <td>0.618</td>\n",
       "      <td>0.365</td>\n",
       "      <td>0.9872</td>\n",
       "    </tr>\n",
       "    <tr>\n",
       "      <th>109151</th>\n",
       "      <td>ms</td>\n",
       "      <td>fl</td>\n",
       "      <td>2016-10-20 19:04:50</td>\n",
       "      <td>grades_3_5</td>\n",
       "      <td>0</td>\n",
       "      <td>students comprised fifth grade english languag...</td>\n",
       "      <td>899.99</td>\n",
       "      <td>1</td>\n",
       "      <td>Literacy_Language</td>\n",
       "      <td>Literacy Literature_Writing</td>\n",
       "      <td>reading engagement brain</td>\n",
       "      <td>0.048</td>\n",
       "      <td>0.808</td>\n",
       "      <td>0.144</td>\n",
       "      <td>0.8468</td>\n",
       "    </tr>\n",
       "    <tr>\n",
       "      <th>48682</th>\n",
       "      <td>ms</td>\n",
       "      <td>il</td>\n",
       "      <td>2017-01-08 18:16:15</td>\n",
       "      <td>grades_6_8</td>\n",
       "      <td>19</td>\n",
       "      <td>students full energy eager learn many first ye...</td>\n",
       "      <td>24.90</td>\n",
       "      <td>8</td>\n",
       "      <td>Math_Science</td>\n",
       "      <td>AppliedSciences</td>\n",
       "      <td>students experimenting levitation</td>\n",
       "      <td>0.069</td>\n",
       "      <td>0.561</td>\n",
       "      <td>0.370</td>\n",
       "      <td>0.9890</td>\n",
       "    </tr>\n",
       "    <tr>\n",
       "      <th>75864</th>\n",
       "      <td>mrs</td>\n",
       "      <td>wa</td>\n",
       "      <td>2016-08-03 14:53:24</td>\n",
       "      <td>grades_3_5</td>\n",
       "      <td>0</td>\n",
       "      <td>students school diverse group learners every w...</td>\n",
       "      <td>29.08</td>\n",
       "      <td>41</td>\n",
       "      <td>Literacy_Language</td>\n",
       "      <td>Literacy</td>\n",
       "      <td>help us start scrabble club</td>\n",
       "      <td>0.016</td>\n",
       "      <td>0.661</td>\n",
       "      <td>0.323</td>\n",
       "      <td>0.9892</td>\n",
       "    </tr>\n",
       "    <tr>\n",
       "      <th>35710</th>\n",
       "      <td>mrs</td>\n",
       "      <td>ct</td>\n",
       "      <td>2016-08-14 22:38:49</td>\n",
       "      <td>grades_3_5</td>\n",
       "      <td>0</td>\n",
       "      <td>majority students school struggle poverty many...</td>\n",
       "      <td>609.96</td>\n",
       "      <td>5</td>\n",
       "      <td>Health_Sports</td>\n",
       "      <td>Gym_Fitness</td>\n",
       "      <td>active bodies make active brains</td>\n",
       "      <td>0.106</td>\n",
       "      <td>0.553</td>\n",
       "      <td>0.341</td>\n",
       "      <td>0.9953</td>\n",
       "    </tr>\n",
       "  </tbody>\n",
       "</table>\n",
       "</div>"
      ],
      "text/plain": [
       "       teacher_prefix school_state  ... positive compound\n",
       "26835             mrs           nv  ...    0.365   0.9872\n",
       "109151             ms           fl  ...    0.144   0.8468\n",
       "48682              ms           il  ...    0.370   0.9890\n",
       "75864             mrs           wa  ...    0.323   0.9892\n",
       "35710             mrs           ct  ...    0.341   0.9953\n",
       "\n",
       "[5 rows x 15 columns]"
      ]
     },
     "execution_count": 35,
     "metadata": {
      "tags": []
     },
     "output_type": "execute_result"
    }
   ],
   "source": [
    "project_train.head()"
   ]
  },
  {
   "cell_type": "code",
   "execution_count": 36,
   "metadata": {
    "colab": {
     "base_uri": "https://localhost:8080/",
     "height": 605
    },
    "id": "rLsabXjtqisY",
    "outputId": "d1a44453-fba7-4115-c543-fa01e5d61eb4"
   },
   "outputs": [
    {
     "data": {
      "text/html": [
       "<div>\n",
       "<style scoped>\n",
       "    .dataframe tbody tr th:only-of-type {\n",
       "        vertical-align: middle;\n",
       "    }\n",
       "\n",
       "    .dataframe tbody tr th {\n",
       "        vertical-align: top;\n",
       "    }\n",
       "\n",
       "    .dataframe thead th {\n",
       "        text-align: right;\n",
       "    }\n",
       "</style>\n",
       "<table border=\"1\" class=\"dataframe\">\n",
       "  <thead>\n",
       "    <tr style=\"text-align: right;\">\n",
       "      <th></th>\n",
       "      <th>teacher_prefix</th>\n",
       "      <th>school_state</th>\n",
       "      <th>project_submitted_datetime</th>\n",
       "      <th>project_grade_category</th>\n",
       "      <th>teacher_number_of_previously_posted_projects</th>\n",
       "      <th>essay</th>\n",
       "      <th>price</th>\n",
       "      <th>quantity</th>\n",
       "      <th>clean_categories</th>\n",
       "      <th>clean_subcategories</th>\n",
       "      <th>titles</th>\n",
       "      <th>negative</th>\n",
       "      <th>neutral</th>\n",
       "      <th>positive</th>\n",
       "      <th>compound</th>\n",
       "    </tr>\n",
       "  </thead>\n",
       "  <tbody>\n",
       "    <tr>\n",
       "      <th>68608</th>\n",
       "      <td>ms</td>\n",
       "      <td>pa</td>\n",
       "      <td>2016-08-08 14:43:04</td>\n",
       "      <td>grades_3_5</td>\n",
       "      <td>0</td>\n",
       "      <td>year 134 students coming fourth grade school t...</td>\n",
       "      <td>405.72</td>\n",
       "      <td>3</td>\n",
       "      <td>Literacy_Language</td>\n",
       "      <td>Literacy</td>\n",
       "      <td>magical reading lounge</td>\n",
       "      <td>0.120</td>\n",
       "      <td>0.618</td>\n",
       "      <td>0.262</td>\n",
       "      <td>0.9383</td>\n",
       "    </tr>\n",
       "    <tr>\n",
       "      <th>44022</th>\n",
       "      <td>ms</td>\n",
       "      <td>ia</td>\n",
       "      <td>2016-11-09 10:43:20</td>\n",
       "      <td>grades_3_5</td>\n",
       "      <td>1</td>\n",
       "      <td>classroom full fun loving diverse learners lov...</td>\n",
       "      <td>250.00</td>\n",
       "      <td>2</td>\n",
       "      <td>Literacy_Language Math_Science</td>\n",
       "      <td>Literature_Writing Mathematics</td>\n",
       "      <td>touch explore learn</td>\n",
       "      <td>0.027</td>\n",
       "      <td>0.654</td>\n",
       "      <td>0.319</td>\n",
       "      <td>0.9942</td>\n",
       "    </tr>\n",
       "    <tr>\n",
       "      <th>40102</th>\n",
       "      <td>mrs</td>\n",
       "      <td>ny</td>\n",
       "      <td>2017-02-09 13:33:10</td>\n",
       "      <td>grades_3_5</td>\n",
       "      <td>4</td>\n",
       "      <td>fifth graders excited increasing reading level...</td>\n",
       "      <td>91.73</td>\n",
       "      <td>75</td>\n",
       "      <td>Literacy_Language</td>\n",
       "      <td>Literacy Literature_Writing</td>\n",
       "      <td>boosting reading using technology</td>\n",
       "      <td>0.000</td>\n",
       "      <td>0.860</td>\n",
       "      <td>0.140</td>\n",
       "      <td>0.9246</td>\n",
       "    </tr>\n",
       "    <tr>\n",
       "      <th>37749</th>\n",
       "      <td>mrs</td>\n",
       "      <td>nj</td>\n",
       "      <td>2017-02-23 23:01:43</td>\n",
       "      <td>grades_prek_2</td>\n",
       "      <td>40</td>\n",
       "      <td>four five year old students come high poverty ...</td>\n",
       "      <td>413.67</td>\n",
       "      <td>26</td>\n",
       "      <td>Literacy_Language SpecialNeeds</td>\n",
       "      <td>Literature_Writing SpecialNeeds</td>\n",
       "      <td>independent little einstein work</td>\n",
       "      <td>0.106</td>\n",
       "      <td>0.636</td>\n",
       "      <td>0.258</td>\n",
       "      <td>0.9690</td>\n",
       "    </tr>\n",
       "    <tr>\n",
       "      <th>26455</th>\n",
       "      <td>teacher</td>\n",
       "      <td>nc</td>\n",
       "      <td>2016-08-04 11:26:57</td>\n",
       "      <td>grades_3_5</td>\n",
       "      <td>0</td>\n",
       "      <td>students 5th grade energetic engaging ambitiou...</td>\n",
       "      <td>99.99</td>\n",
       "      <td>3</td>\n",
       "      <td>Literacy_Language</td>\n",
       "      <td>Literacy</td>\n",
       "      <td>balancing movement reading</td>\n",
       "      <td>0.041</td>\n",
       "      <td>0.673</td>\n",
       "      <td>0.286</td>\n",
       "      <td>0.9891</td>\n",
       "    </tr>\n",
       "  </tbody>\n",
       "</table>\n",
       "</div>"
      ],
      "text/plain": [
       "      teacher_prefix school_state  ... positive compound\n",
       "68608             ms           pa  ...    0.262   0.9383\n",
       "44022             ms           ia  ...    0.319   0.9942\n",
       "40102            mrs           ny  ...    0.140   0.9246\n",
       "37749            mrs           nj  ...    0.258   0.9690\n",
       "26455        teacher           nc  ...    0.286   0.9891\n",
       "\n",
       "[5 rows x 15 columns]"
      ]
     },
     "execution_count": 36,
     "metadata": {
      "tags": []
     },
     "output_type": "execute_result"
    }
   ],
   "source": [
    "project_test.head()"
   ]
  },
  {
   "cell_type": "code",
   "execution_count": 37,
   "metadata": {
    "colab": {
     "base_uri": "https://localhost:8080/"
    },
    "id": "2OylHZP9qisY",
    "outputId": "a7809d11-3a12-42b9-c8b7-910744bad5db"
   },
   "outputs": [
    {
     "data": {
      "text/plain": [
       "26835     0\n",
       "109151    1\n",
       "48682     1\n",
       "75864     1\n",
       "35710     1\n",
       "Name: project_is_approved, dtype: int64"
      ]
     },
     "execution_count": 37,
     "metadata": {
      "tags": []
     },
     "output_type": "execute_result"
    }
   ],
   "source": [
    "project_y_train.head()"
   ]
  },
  {
   "cell_type": "code",
   "execution_count": 38,
   "metadata": {
    "colab": {
     "base_uri": "https://localhost:8080/"
    },
    "id": "A6P-BEz5qisY",
    "outputId": "a072fabb-e80d-4577-b4da-bcf9173f2442"
   },
   "outputs": [
    {
     "data": {
      "text/plain": [
       "68608    1\n",
       "44022    1\n",
       "40102    1\n",
       "37749    0\n",
       "26455    1\n",
       "Name: project_is_approved, dtype: int64"
      ]
     },
     "execution_count": 38,
     "metadata": {
      "tags": []
     },
     "output_type": "execute_result"
    }
   ],
   "source": [
    "project_y_test.head()"
   ]
  },
  {
   "cell_type": "code",
   "execution_count": 39,
   "metadata": {
    "id": "adZYvVh4qisY"
   },
   "outputs": [],
   "source": [
    "negative1=project_train['negative']\n",
    "positive1=project_train['positive']\n",
    "neutral1=project_train['neutral']\n",
    "compound1=project_train['compound']\n",
    "negative2=project_test['negative']\n",
    "positive2=project_test['positive']\n",
    "neutral2=project_test['neutral']\n",
    "compound2=project_test['compound']"
   ]
  },
  {
   "cell_type": "markdown",
   "metadata": {
    "id": "vsALgl5Asc3u"
   },
   "source": [
    "<h2>1.3 Make Data Model Ready: encoding eassay, and project_title</h2>"
   ]
  },
  {
   "cell_type": "code",
   "execution_count": 40,
   "metadata": {
    "id": "1A_85jbWsc3v"
   },
   "outputs": [],
   "source": [
    "# please write all the code with proper documentation, and proper titles for each subsection\n",
    "# go through documentations and blogs before you start coding\n",
    "# first figure out what to do, and then think about how to do.\n",
    "# reading and understanding error messages will be very much helpfull in debugging your code\n",
    "# make sure you featurize train and test data separatly\n",
    "\n",
    "# when you plot any graph make sure you use \n",
    "    # a. Title, that describes your plot, this will be very helpful to the reader\n",
    "    # b. Legends if needed\n",
    "    # c. X-axis label\n",
    "    # d. Y-axis label"
   ]
  },
  {
   "cell_type": "code",
   "execution_count": 41,
   "metadata": {
    "colab": {
     "base_uri": "https://localhost:8080/"
    },
    "id": "8QOD6mHGqisZ",
    "outputId": "bffa650f-efc0-4804-d22e-7728389d8cc8"
   },
   "outputs": [
    {
     "name": "stdout",
     "output_type": "stream",
     "text": [
      "Shape of train data matrix after one hot encoding  (73196, 14104)\n",
      "Shape of test data matrix after one hot encoding  (36052, 14104)\n"
     ]
    }
   ],
   "source": [
    "from sklearn.feature_extraction.text import TfidfVectorizer\n",
    "vectorizer_tfidf_essay = TfidfVectorizer(min_df=10)\n",
    "vectorizer_tfidf_essay.fit(project_train['essay'])     \n",
    " \n",
    "train_essay_tfidf = vectorizer_tfidf_essay.transform(project_train['essay'].values)\n",
    "\n",
    "test_essay_tfidf = vectorizer_tfidf_essay.transform(project_test['essay'].values)\n",
    "\n",
    "print(\"Shape of train data matrix after one hot encoding \",train_essay_tfidf.shape)\n",
    "\n",
    "print(\"Shape of test data matrix after one hot encoding \",test_essay_tfidf.shape)"
   ]
  },
  {
   "cell_type": "code",
   "execution_count": 42,
   "metadata": {
    "colab": {
     "base_uri": "https://localhost:8080/"
    },
    "id": "sYkMsvrUqisZ",
    "outputId": "4fbc2f36-fa93-4e38-bb89-c6207cac921d"
   },
   "outputs": [
    {
     "name": "stdout",
     "output_type": "stream",
     "text": [
      "Shape of train data matrix after one hot encoding  (73196, 2518)\n",
      "Shape of test data matrix after one hot encoding  (36052, 2518)\n"
     ]
    }
   ],
   "source": [
    "vectorizer_tfidf_title = TfidfVectorizer(min_df=10)\n",
    "vectorizer_tfidf_title.fit(project_train['titles'])     \n",
    " \n",
    "train_title_tfidf = vectorizer_tfidf_title.transform(project_train['titles'].values)\n",
    "\n",
    "test_title_tfidf = vectorizer_tfidf_title.transform(project_test['titles'].values)\n",
    "\n",
    "print(\"Shape of train data matrix after one hot encoding \",train_title_tfidf.shape)\n",
    "\n",
    "print(\"Shape of test data matrix after one hot encoding \",test_title_tfidf.shape)"
   ]
  },
  {
   "cell_type": "code",
   "execution_count": 43,
   "metadata": {
    "id": "yaBNFgxUqisZ"
   },
   "outputs": [],
   "source": [
    "with open('/content/drive/MyDrive/glove_vectors', 'rb') as f:\n",
    "    model = pickle.load(f)\n",
    "    glove_words =  set(model.keys())"
   ]
  },
  {
   "cell_type": "code",
   "execution_count": 44,
   "metadata": {
    "id": "1lr4OOZPqisZ"
   },
   "outputs": [],
   "source": [
    "tfidf_model = TfidfVectorizer()\n",
    "tfidf_model.fit(project_train['essay'].values)\n",
    "dictionary = dict(zip(tfidf_model.get_feature_names(), list(tfidf_model.idf_)))\n",
    "tfidf_words = set(tfidf_model.get_feature_names())"
   ]
  },
  {
   "cell_type": "code",
   "execution_count": 45,
   "metadata": {
    "colab": {
     "base_uri": "https://localhost:8080/"
    },
    "id": "cFbbzShiqisZ",
    "outputId": "acf7ddb6-f884-44ae-f9f1-ca02f494396b"
   },
   "outputs": [
    {
     "name": "stderr",
     "output_type": "stream",
     "text": [
      "100%|██████████| 73196/73196 [02:27<00:00, 497.92it/s]"
     ]
    },
    {
     "name": "stdout",
     "output_type": "stream",
     "text": [
      "73196\n",
      "300\n"
     ]
    },
    {
     "name": "stderr",
     "output_type": "stream",
     "text": [
      "\n"
     ]
    }
   ],
   "source": [
    "train_tfidf_w2v_essays = []; # the avg-w2v for each sentence/review is stored in this list\n",
    "for sentence in tqdm(project_train['essay']): # for each review/sentence\n",
    "    vector = np.zeros(300) # as word vectors are of zero length\n",
    "    tf_idf_weight =0; # num of words with a valid vector in the sentence/review\n",
    "    for word in sentence.split(): # for each word in a review/sentence\n",
    "        if (word in glove_words) and (word in tfidf_words):\n",
    "            vec = model[word] # getting the vector for each word\n",
    "            # here we are multiplying idf value(dictionary[word]) and the tf value((sentence.count(word)/len(sentence.split())))\n",
    "            tf_idf = dictionary[word]*(sentence.count(word)/len(sentence.split())) # getting the tfidf value for each word\n",
    "            vector += (vec * tf_idf) # calculating tfidf weighted w2v\n",
    "            tf_idf_weight += tf_idf\n",
    "    if tf_idf_weight != 0:\n",
    "        vector /= tf_idf_weight\n",
    "    train_tfidf_w2v_essays.append(vector)\n",
    "\n",
    "print(len(train_tfidf_w2v_essays))\n",
    "print(len(train_tfidf_w2v_essays[0]))"
   ]
  },
  {
   "cell_type": "code",
   "execution_count": 46,
   "metadata": {
    "colab": {
     "base_uri": "https://localhost:8080/"
    },
    "id": "pXb9l7Qxqisa",
    "outputId": "cfceb704-4b14-4cbc-db67-6302c1013809"
   },
   "outputs": [
    {
     "name": "stderr",
     "output_type": "stream",
     "text": [
      "100%|██████████| 36052/36052 [01:12<00:00, 497.90it/s]"
     ]
    },
    {
     "name": "stdout",
     "output_type": "stream",
     "text": [
      "36052\n",
      "300\n"
     ]
    },
    {
     "name": "stderr",
     "output_type": "stream",
     "text": [
      "\n"
     ]
    }
   ],
   "source": [
    "test_tfidf_w2v_essays = []; # the avg-w2v for each sentence/review is stored in this list\n",
    "for sentence in tqdm(project_test['essay']): # for each review/sentence\n",
    "    vector = np.zeros(300) # as word vectors are of zero length\n",
    "    tf_idf_weight =0; # num of words with a valid vector in the sentence/review\n",
    "    for word in sentence.split(): # for each word in a review/sentence\n",
    "        if (word in glove_words) and (word in tfidf_words):\n",
    "            vec = model[word] # getting the vector for each word\n",
    "            # here we are multiplying idf value(dictionary[word]) and the tf value((sentence.count(word)/len(sentence.split())))\n",
    "            tf_idf = dictionary[word]*(sentence.count(word)/len(sentence.split())) # getting the tfidf value for each word\n",
    "            vector += (vec * tf_idf) # calculating tfidf weighted w2v\n",
    "            tf_idf_weight += tf_idf\n",
    "    if tf_idf_weight != 0:\n",
    "        vector /= tf_idf_weight\n",
    "    test_tfidf_w2v_essays.append(vector)\n",
    "\n",
    "print(len(test_tfidf_w2v_essays))\n",
    "print(len(test_tfidf_w2v_essays[0]))"
   ]
  },
  {
   "cell_type": "code",
   "execution_count": 47,
   "metadata": {
    "id": "9eAScWVJqisa"
   },
   "outputs": [],
   "source": [
    "tfidf_model = TfidfVectorizer()\n",
    "tfidf_model.fit(project_train['titles'])\n",
    "# we are converting a dictionary with word as a key, and the idf as a value\n",
    "dictionary = dict(zip(tfidf_model.get_feature_names(), list(tfidf_model.idf_)))\n",
    "tfidf_words = set(tfidf_model.get_feature_names())"
   ]
  },
  {
   "cell_type": "code",
   "execution_count": 48,
   "metadata": {
    "colab": {
     "base_uri": "https://localhost:8080/"
    },
    "id": "Yxs9H5X8qisa",
    "outputId": "9a1a87b2-5583-4807-82d1-2c870935a687"
   },
   "outputs": [
    {
     "name": "stderr",
     "output_type": "stream",
     "text": [
      "100%|██████████| 73196/73196 [00:03<00:00, 20377.63it/s]"
     ]
    },
    {
     "name": "stdout",
     "output_type": "stream",
     "text": [
      "73196\n",
      "300\n"
     ]
    },
    {
     "name": "stderr",
     "output_type": "stream",
     "text": [
      "\n"
     ]
    }
   ],
   "source": [
    "train_tfidf_w2v_titles = []; # the avg-w2v for each sentence/review is stored in this list\n",
    "for sentence in tqdm(project_train['titles']): # for each review/sentence\n",
    "    vector = np.zeros(300) # as word vectors are of zero length\n",
    "    tf_idf_weight =0; # num of words with a valid vector in the sentence/review\n",
    "    for word in sentence.split(): # for each word in a review/sentence\n",
    "        if (word in glove_words) and (word in tfidf_words):\n",
    "            vec = model[word] # getting the vector for each word\n",
    "            # here we are multiplying idf value(dictionary[word]) and the tf value((sentence.count(word)/len(sentence.split())))\n",
    "            tf_idf = dictionary[word]*(sentence.count(word)/len(sentence.split())) # getting the tfidf value for each word\n",
    "            vector += (vec * tf_idf) # calculating tfidf weighted w2v\n",
    "            tf_idf_weight += tf_idf\n",
    "    if tf_idf_weight != 0:\n",
    "        vector /= tf_idf_weight\n",
    "    train_tfidf_w2v_titles.append(vector)\n",
    "\n",
    "print(len(train_tfidf_w2v_titles))\n",
    "print(len(train_tfidf_w2v_titles[0]))"
   ]
  },
  {
   "cell_type": "code",
   "execution_count": 49,
   "metadata": {
    "colab": {
     "base_uri": "https://localhost:8080/"
    },
    "id": "ZzIICz6Eqisa",
    "outputId": "7e184196-c9ee-4286-f20d-2c7ab1e98ab1"
   },
   "outputs": [
    {
     "name": "stderr",
     "output_type": "stream",
     "text": [
      "100%|██████████| 36052/36052 [00:01<00:00, 27252.05it/s]"
     ]
    },
    {
     "name": "stdout",
     "output_type": "stream",
     "text": [
      "36052\n",
      "300\n"
     ]
    },
    {
     "name": "stderr",
     "output_type": "stream",
     "text": [
      "\n"
     ]
    }
   ],
   "source": [
    "test_tfidf_w2v_titles = []; # the avg-w2v for each sentence/review is stored in this list\n",
    "for sentence in tqdm(project_test['titles']): # for each review/sentence\n",
    "    vector = np.zeros(300) # as word vectors are of zero length\n",
    "    tf_idf_weight =0; # num of words with a valid vector in the sentence/review\n",
    "    for word in sentence.split(): # for each word in a review/sentence\n",
    "        if (word in glove_words) and (word in tfidf_words):\n",
    "            vec = model[word] # getting the vector for each word\n",
    "            # here we are multiplying idf value(dictionary[word]) and the tf value((sentence.count(word)/len(sentence.split())))\n",
    "            tf_idf = dictionary[word]*(sentence.count(word)/len(sentence.split())) # getting the tfidf value for each word\n",
    "            vector += (vec * tf_idf) # calculating tfidf weighted w2v\n",
    "            tf_idf_weight += tf_idf\n",
    "    if tf_idf_weight != 0:\n",
    "        vector /= tf_idf_weight\n",
    "    test_tfidf_w2v_titles.append(vector)\n",
    "\n",
    "print(len(test_tfidf_w2v_titles))\n",
    "print(len(test_tfidf_w2v_titles[0]))"
   ]
  },
  {
   "cell_type": "markdown",
   "metadata": {
    "id": "S3Vxxv2Hsc31"
   },
   "source": [
    "<h2>1.4 Make Data Model Ready: encoding numerical, categorical features</h2>"
   ]
  },
  {
   "cell_type": "code",
   "execution_count": 50,
   "metadata": {
    "id": "RAtihVPqsc33"
   },
   "outputs": [],
   "source": [
    "# please write all the code with proper documentation, and proper titles for each subsection\n",
    "# go through documentations and blogs before you start coding \n",
    "# first figure out what to do, and then think about how to do.\n",
    "# reading and understanding error messages will be very much helpfull in debugging your code\n",
    "# make sure you featurize train and test data separatly\n",
    "\n",
    "# when you plot any graph make sure you use \n",
    "    # a. Title, that describes your plot, this will be very helpful to the reader\n",
    "    # b. Legends if needed\n",
    "    # c. X-axis label\n",
    "    # d. Y-axis label"
   ]
  },
  {
   "cell_type": "code",
   "execution_count": 51,
   "metadata": {
    "id": "sxT5R7oAqisb"
   },
   "outputs": [],
   "source": [
    "from sklearn.preprocessing import Normalizer"
   ]
  },
  {
   "cell_type": "code",
   "execution_count": 52,
   "metadata": {
    "colab": {
     "base_uri": "https://localhost:8080/"
    },
    "id": "i89iWvecqisb",
    "outputId": "5f268f6e-c2bc-4443-df3f-e72eac8fd669"
   },
   "outputs": [
    {
     "name": "stdout",
     "output_type": "stream",
     "text": [
      "73196\n",
      "36052\n"
     ]
    }
   ],
   "source": [
    "print(len(project_train))\n",
    "print(len(project_test))"
   ]
  },
  {
   "cell_type": "code",
   "execution_count": 53,
   "metadata": {
    "id": "6lvpl_Xtqisb"
   },
   "outputs": [],
   "source": [
    "def response_coding(xtrain, ytrain, feature):\n",
    "    \"\"\" this method will encode the categorical features \n",
    "            using response_coding technique. \n",
    "            args:\n",
    "                xtrain, ytrain, feature (all are ndarray)\n",
    "            returns:\n",
    "                dictionary (dict)\n",
    "    \"\"\"\n",
    "    dictionary = dict()\n",
    "    unique_cat_labels = xtrain[feature].unique()\n",
    "    for i in tqdm(range(len(unique_cat_labels))):\n",
    "        total_count = xtrain.loc[:,feature][(xtrain[feature] == unique_cat_labels[i])].count()\n",
    "        p_0 = xtrain.loc[:, feature][((xtrain[feature] == unique_cat_labels[i]) & (ytrain==0))].count()\n",
    "        p_1 = xtrain.loc[:, feature][((xtrain[feature] == unique_cat_labels[i]) & (ytrain==1))].count()\n",
    "\n",
    "        dictionary[unique_cat_labels[i]] = [p_1/total_count, p_0/total_count]\n",
    "\n",
    "        row = []\n",
    "        row.append(unique_cat_labels[i])\n",
    "        row.append(p_1/total_count)\n",
    "        row.append(p_0/total_count)\n",
    "\n",
    "    return dictionary"
   ]
  },
  {
   "cell_type": "code",
   "execution_count": 54,
   "metadata": {
    "colab": {
     "base_uri": "https://localhost:8080/"
    },
    "id": "M0xSaXW1qisb",
    "outputId": "ddc530fc-7a47-4ecf-8dd1-d6a52e1229fb"
   },
   "outputs": [
    {
     "name": "stderr",
     "output_type": "stream",
     "text": [
      "100%|██████████| 50/50 [00:01<00:00, 26.44it/s]\n",
      "100%|██████████| 387/387 [00:13<00:00, 29.30it/s]\n",
      "100%|██████████| 51/51 [00:01<00:00, 30.14it/s]\n",
      "100%|██████████| 5/5 [00:00<00:00, 31.59it/s]\n",
      "100%|██████████| 4/4 [00:00<00:00, 27.75it/s]\n",
      "100%|██████████| 50/50 [00:00<00:00, 62.79it/s]\n",
      "100%|██████████| 371/371 [00:05<00:00, 68.93it/s]\n",
      "100%|██████████| 51/51 [00:00<00:00, 55.96it/s]\n",
      "100%|██████████| 5/5 [00:00<00:00, 57.06it/s]\n",
      "100%|██████████| 4/4 [00:00<00:00, 63.32it/s]\n"
     ]
    }
   ],
   "source": [
    "cat_train = response_coding(project_train,project_y_train,'clean_categories')\n",
    "sub_train = response_coding(project_train,project_y_train,'clean_subcategories')\n",
    "state_train = response_coding(project_train,project_y_train,'school_state')\n",
    "prefix_train = response_coding(project_train,project_y_train,'teacher_prefix')\n",
    "grade_cat_train = response_coding(project_train,project_y_train,'project_grade_category')\n",
    "cat_test = response_coding(project_test,project_y_test,'clean_categories')\n",
    "sub_test = response_coding(project_test,project_y_test,'clean_subcategories')\n",
    "state_test = response_coding(project_test,project_y_test,'school_state')\n",
    "prefix_test = response_coding(project_test,project_y_test,'teacher_prefix')\n",
    "grade_cat_test = response_coding(project_test,project_y_test,'project_grade_category')"
   ]
  },
  {
   "cell_type": "code",
   "execution_count": 55,
   "metadata": {
    "id": "oPh7cartqisb"
   },
   "outputs": [],
   "source": [
    "category_neg_train = []\n",
    "category_pos_train = []\n",
    "for i in project_train['clean_categories']:\n",
    "    category_neg_train.append(cat_train[i][1])\n",
    "    category_pos_train.append(cat_train[i][0])\n",
    "project_train['category_0'] = category_neg_train\n",
    "project_train['category_1'] = category_pos_train"
   ]
  },
  {
   "cell_type": "code",
   "execution_count": 56,
   "metadata": {
    "id": "BgLPINqQqisb"
   },
   "outputs": [],
   "source": [
    "subcategory_neg_train = []\n",
    "subcategory_pos_train = []\n",
    "for i in project_train['clean_subcategories']:\n",
    "    subcategory_neg_train.append(sub_train[i][1])\n",
    "    subcategory_pos_train.append(sub_train[i][0])\n",
    "project_train['subcategory_0'] = subcategory_neg_train\n",
    "project_train['subcategory_1'] = subcategory_pos_train"
   ]
  },
  {
   "cell_type": "code",
   "execution_count": 57,
   "metadata": {
    "id": "UyYYXIogqisc"
   },
   "outputs": [],
   "source": [
    "state_neg_train = []\n",
    "state_pos_train = []\n",
    "for i in project_train['school_state']:\n",
    "    state_neg_train.append(state_train[i][1])\n",
    "    state_pos_train.append(state_train[i][0])\n",
    "project_train['state_0'] = state_neg_train\n",
    "project_train['state_1'] = state_pos_train"
   ]
  },
  {
   "cell_type": "code",
   "execution_count": 58,
   "metadata": {
    "id": "5Zt5uVLuqisc"
   },
   "outputs": [],
   "source": [
    "prefix_neg_train = []\n",
    "prefix_pos_train = []\n",
    "for i in project_train['teacher_prefix']:\n",
    "    prefix_neg_train.append(prefix_train[i][1])\n",
    "    prefix_pos_train.append(prefix_train[i][0])\n",
    "project_train['prefix_0'] = prefix_neg_train\n",
    "project_train['prefix_1'] = prefix_pos_train"
   ]
  },
  {
   "cell_type": "code",
   "execution_count": 59,
   "metadata": {
    "id": "BmOK9FeTqisc"
   },
   "outputs": [],
   "source": [
    "grade_neg_train = []\n",
    "grade_pos_train = []\n",
    "for i in project_train['project_grade_category']:\n",
    "    grade_neg_train.append(grade_cat_train[i][1])\n",
    "    grade_pos_train.append(grade_cat_train[i][0])\n",
    "project_train['grade_0'] = grade_neg_train\n",
    "project_train['grade_1'] = grade_pos_train"
   ]
  },
  {
   "cell_type": "code",
   "execution_count": 60,
   "metadata": {
    "colab": {
     "base_uri": "https://localhost:8080/",
     "height": 622
    },
    "id": "mDqbsdUlqisc",
    "outputId": "f0ca3bc0-4166-41ae-d4f9-d01e31c96716"
   },
   "outputs": [
    {
     "data": {
      "text/html": [
       "<div>\n",
       "<style scoped>\n",
       "    .dataframe tbody tr th:only-of-type {\n",
       "        vertical-align: middle;\n",
       "    }\n",
       "\n",
       "    .dataframe tbody tr th {\n",
       "        vertical-align: top;\n",
       "    }\n",
       "\n",
       "    .dataframe thead th {\n",
       "        text-align: right;\n",
       "    }\n",
       "</style>\n",
       "<table border=\"1\" class=\"dataframe\">\n",
       "  <thead>\n",
       "    <tr style=\"text-align: right;\">\n",
       "      <th></th>\n",
       "      <th>teacher_prefix</th>\n",
       "      <th>school_state</th>\n",
       "      <th>project_submitted_datetime</th>\n",
       "      <th>project_grade_category</th>\n",
       "      <th>teacher_number_of_previously_posted_projects</th>\n",
       "      <th>essay</th>\n",
       "      <th>price</th>\n",
       "      <th>quantity</th>\n",
       "      <th>clean_categories</th>\n",
       "      <th>clean_subcategories</th>\n",
       "      <th>titles</th>\n",
       "      <th>negative</th>\n",
       "      <th>neutral</th>\n",
       "      <th>positive</th>\n",
       "      <th>compound</th>\n",
       "      <th>category_0</th>\n",
       "      <th>category_1</th>\n",
       "      <th>subcategory_0</th>\n",
       "      <th>subcategory_1</th>\n",
       "      <th>state_0</th>\n",
       "      <th>state_1</th>\n",
       "      <th>prefix_0</th>\n",
       "      <th>prefix_1</th>\n",
       "      <th>grade_0</th>\n",
       "      <th>grade_1</th>\n",
       "    </tr>\n",
       "  </thead>\n",
       "  <tbody>\n",
       "    <tr>\n",
       "      <th>26835</th>\n",
       "      <td>mrs</td>\n",
       "      <td>nv</td>\n",
       "      <td>2016-09-16 13:16:02</td>\n",
       "      <td>grades_3_5</td>\n",
       "      <td>36</td>\n",
       "      <td>students dedicated polite great year far want ...</td>\n",
       "      <td>147.64</td>\n",
       "      <td>12</td>\n",
       "      <td>Math_Science</td>\n",
       "      <td>AppliedSciences Mathematics</td>\n",
       "      <td>shockingly good workers</td>\n",
       "      <td>0.018</td>\n",
       "      <td>0.618</td>\n",
       "      <td>0.365</td>\n",
       "      <td>0.9872</td>\n",
       "      <td>0.179654</td>\n",
       "      <td>0.820346</td>\n",
       "      <td>0.166667</td>\n",
       "      <td>0.833333</td>\n",
       "      <td>0.147186</td>\n",
       "      <td>0.852814</td>\n",
       "      <td>0.144605</td>\n",
       "      <td>0.855395</td>\n",
       "      <td>0.145128</td>\n",
       "      <td>0.854872</td>\n",
       "    </tr>\n",
       "    <tr>\n",
       "      <th>109151</th>\n",
       "      <td>ms</td>\n",
       "      <td>fl</td>\n",
       "      <td>2016-10-20 19:04:50</td>\n",
       "      <td>grades_3_5</td>\n",
       "      <td>0</td>\n",
       "      <td>students comprised fifth grade english languag...</td>\n",
       "      <td>899.99</td>\n",
       "      <td>1</td>\n",
       "      <td>Literacy_Language</td>\n",
       "      <td>Literacy Literature_Writing</td>\n",
       "      <td>reading engagement brain</td>\n",
       "      <td>0.048</td>\n",
       "      <td>0.808</td>\n",
       "      <td>0.144</td>\n",
       "      <td>0.8468</td>\n",
       "      <td>0.133304</td>\n",
       "      <td>0.866696</td>\n",
       "      <td>0.132187</td>\n",
       "      <td>0.867813</td>\n",
       "      <td>0.168953</td>\n",
       "      <td>0.831047</td>\n",
       "      <td>0.155383</td>\n",
       "      <td>0.844617</td>\n",
       "      <td>0.145128</td>\n",
       "      <td>0.854872</td>\n",
       "    </tr>\n",
       "    <tr>\n",
       "      <th>48682</th>\n",
       "      <td>ms</td>\n",
       "      <td>il</td>\n",
       "      <td>2017-01-08 18:16:15</td>\n",
       "      <td>grades_6_8</td>\n",
       "      <td>19</td>\n",
       "      <td>students full energy eager learn many first ye...</td>\n",
       "      <td>24.90</td>\n",
       "      <td>8</td>\n",
       "      <td>Math_Science</td>\n",
       "      <td>AppliedSciences</td>\n",
       "      <td>students experimenting levitation</td>\n",
       "      <td>0.069</td>\n",
       "      <td>0.561</td>\n",
       "      <td>0.370</td>\n",
       "      <td>0.9890</td>\n",
       "      <td>0.179654</td>\n",
       "      <td>0.820346</td>\n",
       "      <td>0.183123</td>\n",
       "      <td>0.816877</td>\n",
       "      <td>0.151371</td>\n",
       "      <td>0.848629</td>\n",
       "      <td>0.155383</td>\n",
       "      <td>0.844617</td>\n",
       "      <td>0.157379</td>\n",
       "      <td>0.842621</td>\n",
       "    </tr>\n",
       "    <tr>\n",
       "      <th>75864</th>\n",
       "      <td>mrs</td>\n",
       "      <td>wa</td>\n",
       "      <td>2016-08-03 14:53:24</td>\n",
       "      <td>grades_3_5</td>\n",
       "      <td>0</td>\n",
       "      <td>students school diverse group learners every w...</td>\n",
       "      <td>29.08</td>\n",
       "      <td>41</td>\n",
       "      <td>Literacy_Language</td>\n",
       "      <td>Literacy</td>\n",
       "      <td>help us start scrabble club</td>\n",
       "      <td>0.016</td>\n",
       "      <td>0.661</td>\n",
       "      <td>0.323</td>\n",
       "      <td>0.9892</td>\n",
       "      <td>0.133304</td>\n",
       "      <td>0.866696</td>\n",
       "      <td>0.120249</td>\n",
       "      <td>0.879751</td>\n",
       "      <td>0.118211</td>\n",
       "      <td>0.881789</td>\n",
       "      <td>0.144605</td>\n",
       "      <td>0.855395</td>\n",
       "      <td>0.145128</td>\n",
       "      <td>0.854872</td>\n",
       "    </tr>\n",
       "    <tr>\n",
       "      <th>35710</th>\n",
       "      <td>mrs</td>\n",
       "      <td>ct</td>\n",
       "      <td>2016-08-14 22:38:49</td>\n",
       "      <td>grades_3_5</td>\n",
       "      <td>0</td>\n",
       "      <td>majority students school struggle poverty many...</td>\n",
       "      <td>609.96</td>\n",
       "      <td>5</td>\n",
       "      <td>Health_Sports</td>\n",
       "      <td>Gym_Fitness</td>\n",
       "      <td>active bodies make active brains</td>\n",
       "      <td>0.106</td>\n",
       "      <td>0.553</td>\n",
       "      <td>0.341</td>\n",
       "      <td>0.9953</td>\n",
       "      <td>0.152421</td>\n",
       "      <td>0.847579</td>\n",
       "      <td>0.155811</td>\n",
       "      <td>0.844189</td>\n",
       "      <td>0.127057</td>\n",
       "      <td>0.872943</td>\n",
       "      <td>0.144605</td>\n",
       "      <td>0.855395</td>\n",
       "      <td>0.145128</td>\n",
       "      <td>0.854872</td>\n",
       "    </tr>\n",
       "  </tbody>\n",
       "</table>\n",
       "</div>"
      ],
      "text/plain": [
       "       teacher_prefix school_state  ...   grade_0   grade_1\n",
       "26835             mrs           nv  ...  0.145128  0.854872\n",
       "109151             ms           fl  ...  0.145128  0.854872\n",
       "48682              ms           il  ...  0.157379  0.842621\n",
       "75864             mrs           wa  ...  0.145128  0.854872\n",
       "35710             mrs           ct  ...  0.145128  0.854872\n",
       "\n",
       "[5 rows x 25 columns]"
      ]
     },
     "execution_count": 60,
     "metadata": {
      "tags": []
     },
     "output_type": "execute_result"
    }
   ],
   "source": [
    "project_train.head()"
   ]
  },
  {
   "cell_type": "code",
   "execution_count": 61,
   "metadata": {
    "id": "wjFZ6W_2qisc"
   },
   "outputs": [],
   "source": [
    "category_neg_test = []\n",
    "category_pos_test = []\n",
    "for i in project_test['clean_categories']:\n",
    "    category_neg_test.append(cat_test[i][1])\n",
    "    category_pos_test.append(cat_test[i][0])\n",
    "project_test['category_0'] = category_neg_test\n",
    "project_test['category_1'] = category_pos_test"
   ]
  },
  {
   "cell_type": "code",
   "execution_count": 62,
   "metadata": {
    "id": "5XF7VS_Tqisc"
   },
   "outputs": [],
   "source": [
    "subcategory_neg_test = []\n",
    "subcategory_pos_test = []\n",
    "for i in project_test['clean_subcategories']:\n",
    "    subcategory_neg_test.append(sub_test[i][1])\n",
    "    subcategory_pos_test.append(sub_test[i][0])\n",
    "project_test['subcategory_0'] = subcategory_neg_test\n",
    "project_test['subcategory_1'] = subcategory_pos_test"
   ]
  },
  {
   "cell_type": "code",
   "execution_count": 63,
   "metadata": {
    "id": "PKtoepG1qisc"
   },
   "outputs": [],
   "source": [
    "state_neg_test = []\n",
    "state_pos_test = []\n",
    "for i in project_test['school_state']:\n",
    "    state_neg_test.append(state_test[i][1])\n",
    "    state_pos_test.append(state_test[i][0])\n",
    "project_test['state_0'] = state_neg_test\n",
    "project_test['state_1'] = state_pos_test"
   ]
  },
  {
   "cell_type": "code",
   "execution_count": 64,
   "metadata": {
    "id": "6rVW5Mu8qisd"
   },
   "outputs": [],
   "source": [
    "prefix_neg_test = []\n",
    "prefix_pos_test = []\n",
    "for i in project_test['teacher_prefix']:\n",
    "    prefix_neg_test.append(prefix_test[i][1])\n",
    "    prefix_pos_test.append(prefix_test[i][0])\n",
    "project_test['prefix_0'] = prefix_neg_test\n",
    "project_test['prefix_1'] = prefix_pos_test"
   ]
  },
  {
   "cell_type": "code",
   "execution_count": 65,
   "metadata": {
    "id": "Abt7F5Gbqisd"
   },
   "outputs": [],
   "source": [
    "grade_neg_test = []\n",
    "grade_pos_test = []\n",
    "for i in project_test['project_grade_category']:\n",
    "    grade_neg_test.append(grade_cat_test[i][1])\n",
    "    grade_pos_test.append(grade_cat_test[i][0])\n",
    "project_test['grade_0'] = grade_neg_test\n",
    "project_test['grade_1'] = grade_pos_test"
   ]
  },
  {
   "cell_type": "code",
   "execution_count": 66,
   "metadata": {
    "colab": {
     "base_uri": "https://localhost:8080/",
     "height": 605
    },
    "id": "nyntbGW8qisd",
    "outputId": "3992c50d-a0c3-4c68-d414-cb0d08d81ac7"
   },
   "outputs": [
    {
     "data": {
      "text/html": [
       "<div>\n",
       "<style scoped>\n",
       "    .dataframe tbody tr th:only-of-type {\n",
       "        vertical-align: middle;\n",
       "    }\n",
       "\n",
       "    .dataframe tbody tr th {\n",
       "        vertical-align: top;\n",
       "    }\n",
       "\n",
       "    .dataframe thead th {\n",
       "        text-align: right;\n",
       "    }\n",
       "</style>\n",
       "<table border=\"1\" class=\"dataframe\">\n",
       "  <thead>\n",
       "    <tr style=\"text-align: right;\">\n",
       "      <th></th>\n",
       "      <th>teacher_prefix</th>\n",
       "      <th>school_state</th>\n",
       "      <th>project_submitted_datetime</th>\n",
       "      <th>project_grade_category</th>\n",
       "      <th>teacher_number_of_previously_posted_projects</th>\n",
       "      <th>essay</th>\n",
       "      <th>price</th>\n",
       "      <th>quantity</th>\n",
       "      <th>clean_categories</th>\n",
       "      <th>clean_subcategories</th>\n",
       "      <th>titles</th>\n",
       "      <th>negative</th>\n",
       "      <th>neutral</th>\n",
       "      <th>positive</th>\n",
       "      <th>compound</th>\n",
       "      <th>category_0</th>\n",
       "      <th>category_1</th>\n",
       "      <th>subcategory_0</th>\n",
       "      <th>subcategory_1</th>\n",
       "      <th>state_0</th>\n",
       "      <th>state_1</th>\n",
       "      <th>prefix_0</th>\n",
       "      <th>prefix_1</th>\n",
       "      <th>grade_0</th>\n",
       "      <th>grade_1</th>\n",
       "    </tr>\n",
       "  </thead>\n",
       "  <tbody>\n",
       "    <tr>\n",
       "      <th>68608</th>\n",
       "      <td>ms</td>\n",
       "      <td>pa</td>\n",
       "      <td>2016-08-08 14:43:04</td>\n",
       "      <td>grades_3_5</td>\n",
       "      <td>0</td>\n",
       "      <td>year 134 students coming fourth grade school t...</td>\n",
       "      <td>405.72</td>\n",
       "      <td>3</td>\n",
       "      <td>Literacy_Language</td>\n",
       "      <td>Literacy</td>\n",
       "      <td>magical reading lounge</td>\n",
       "      <td>0.120</td>\n",
       "      <td>0.618</td>\n",
       "      <td>0.262</td>\n",
       "      <td>0.9383</td>\n",
       "      <td>0.130999</td>\n",
       "      <td>0.869001</td>\n",
       "      <td>0.112283</td>\n",
       "      <td>0.887717</td>\n",
       "      <td>0.132381</td>\n",
       "      <td>0.867619</td>\n",
       "      <td>0.158673</td>\n",
       "      <td>0.841327</td>\n",
       "      <td>0.146633</td>\n",
       "      <td>0.853367</td>\n",
       "    </tr>\n",
       "    <tr>\n",
       "      <th>44022</th>\n",
       "      <td>ms</td>\n",
       "      <td>ia</td>\n",
       "      <td>2016-11-09 10:43:20</td>\n",
       "      <td>grades_3_5</td>\n",
       "      <td>1</td>\n",
       "      <td>classroom full fun loving diverse learners lov...</td>\n",
       "      <td>250.00</td>\n",
       "      <td>2</td>\n",
       "      <td>Literacy_Language Math_Science</td>\n",
       "      <td>Literature_Writing Mathematics</td>\n",
       "      <td>touch explore learn</td>\n",
       "      <td>0.027</td>\n",
       "      <td>0.654</td>\n",
       "      <td>0.319</td>\n",
       "      <td>0.9942</td>\n",
       "      <td>0.128059</td>\n",
       "      <td>0.871941</td>\n",
       "      <td>0.132314</td>\n",
       "      <td>0.867686</td>\n",
       "      <td>0.173516</td>\n",
       "      <td>0.826484</td>\n",
       "      <td>0.158673</td>\n",
       "      <td>0.841327</td>\n",
       "      <td>0.146633</td>\n",
       "      <td>0.853367</td>\n",
       "    </tr>\n",
       "    <tr>\n",
       "      <th>40102</th>\n",
       "      <td>mrs</td>\n",
       "      <td>ny</td>\n",
       "      <td>2017-02-09 13:33:10</td>\n",
       "      <td>grades_3_5</td>\n",
       "      <td>4</td>\n",
       "      <td>fifth graders excited increasing reading level...</td>\n",
       "      <td>91.73</td>\n",
       "      <td>75</td>\n",
       "      <td>Literacy_Language</td>\n",
       "      <td>Literacy Literature_Writing</td>\n",
       "      <td>boosting reading using technology</td>\n",
       "      <td>0.000</td>\n",
       "      <td>0.860</td>\n",
       "      <td>0.140</td>\n",
       "      <td>0.9246</td>\n",
       "      <td>0.130999</td>\n",
       "      <td>0.869001</td>\n",
       "      <td>0.138453</td>\n",
       "      <td>0.861547</td>\n",
       "      <td>0.147377</td>\n",
       "      <td>0.852623</td>\n",
       "      <td>0.144089</td>\n",
       "      <td>0.855911</td>\n",
       "      <td>0.146633</td>\n",
       "      <td>0.853367</td>\n",
       "    </tr>\n",
       "    <tr>\n",
       "      <th>37749</th>\n",
       "      <td>mrs</td>\n",
       "      <td>nj</td>\n",
       "      <td>2017-02-23 23:01:43</td>\n",
       "      <td>grades_prek_2</td>\n",
       "      <td>40</td>\n",
       "      <td>four five year old students come high poverty ...</td>\n",
       "      <td>413.67</td>\n",
       "      <td>26</td>\n",
       "      <td>Literacy_Language SpecialNeeds</td>\n",
       "      <td>Literature_Writing SpecialNeeds</td>\n",
       "      <td>independent little einstein work</td>\n",
       "      <td>0.106</td>\n",
       "      <td>0.636</td>\n",
       "      <td>0.258</td>\n",
       "      <td>0.9690</td>\n",
       "      <td>0.160030</td>\n",
       "      <td>0.839970</td>\n",
       "      <td>0.187773</td>\n",
       "      <td>0.812227</td>\n",
       "      <td>0.147776</td>\n",
       "      <td>0.852224</td>\n",
       "      <td>0.144089</td>\n",
       "      <td>0.855911</td>\n",
       "      <td>0.150551</td>\n",
       "      <td>0.849449</td>\n",
       "    </tr>\n",
       "    <tr>\n",
       "      <th>26455</th>\n",
       "      <td>teacher</td>\n",
       "      <td>nc</td>\n",
       "      <td>2016-08-04 11:26:57</td>\n",
       "      <td>grades_3_5</td>\n",
       "      <td>0</td>\n",
       "      <td>students 5th grade energetic engaging ambitiou...</td>\n",
       "      <td>99.99</td>\n",
       "      <td>3</td>\n",
       "      <td>Literacy_Language</td>\n",
       "      <td>Literacy</td>\n",
       "      <td>balancing movement reading</td>\n",
       "      <td>0.041</td>\n",
       "      <td>0.673</td>\n",
       "      <td>0.286</td>\n",
       "      <td>0.9891</td>\n",
       "      <td>0.130999</td>\n",
       "      <td>0.869001</td>\n",
       "      <td>0.112283</td>\n",
       "      <td>0.887717</td>\n",
       "      <td>0.153236</td>\n",
       "      <td>0.846764</td>\n",
       "      <td>0.203956</td>\n",
       "      <td>0.796044</td>\n",
       "      <td>0.146633</td>\n",
       "      <td>0.853367</td>\n",
       "    </tr>\n",
       "  </tbody>\n",
       "</table>\n",
       "</div>"
      ],
      "text/plain": [
       "      teacher_prefix school_state  ...   grade_0   grade_1\n",
       "68608             ms           pa  ...  0.146633  0.853367\n",
       "44022             ms           ia  ...  0.146633  0.853367\n",
       "40102            mrs           ny  ...  0.146633  0.853367\n",
       "37749            mrs           nj  ...  0.150551  0.849449\n",
       "26455        teacher           nc  ...  0.146633  0.853367\n",
       "\n",
       "[5 rows x 25 columns]"
      ]
     },
     "execution_count": 66,
     "metadata": {
      "tags": []
     },
     "output_type": "execute_result"
    }
   ],
   "source": [
    "project_test.head()"
   ]
  },
  {
   "cell_type": "code",
   "execution_count": 67,
   "metadata": {
    "colab": {
     "base_uri": "https://localhost:8080/"
    },
    "id": "HGbS2Rnnqisd",
    "outputId": "94bca839-5483-4e40-af05-7c53b1b31372"
   },
   "outputs": [
    {
     "data": {
      "text/plain": [
       "(73196, 25)"
      ]
     },
     "execution_count": 67,
     "metadata": {
      "tags": []
     },
     "output_type": "execute_result"
    }
   ],
   "source": [
    "project_train.shape"
   ]
  },
  {
   "cell_type": "code",
   "execution_count": 68,
   "metadata": {
    "colab": {
     "base_uri": "https://localhost:8080/"
    },
    "id": "FeGnA4I_qisd",
    "outputId": "e9dffd3f-474c-43ad-ae26-03924f0e64f0"
   },
   "outputs": [
    {
     "data": {
      "text/plain": [
       "Index(['teacher_prefix', 'school_state', 'project_submitted_datetime',\n",
       "       'project_grade_category',\n",
       "       'teacher_number_of_previously_posted_projects', 'essay', 'price',\n",
       "       'quantity', 'clean_categories', 'clean_subcategories', 'titles',\n",
       "       'negative', 'neutral', 'positive', 'compound', 'category_0',\n",
       "       'category_1', 'subcategory_0', 'subcategory_1', 'state_0', 'state_1',\n",
       "       'prefix_0', 'prefix_1', 'grade_0', 'grade_1'],\n",
       "      dtype='object')"
      ]
     },
     "execution_count": 68,
     "metadata": {
      "tags": []
     },
     "output_type": "execute_result"
    }
   ],
   "source": [
    "project_train.columns"
   ]
  },
  {
   "cell_type": "code",
   "execution_count": 69,
   "metadata": {
    "colab": {
     "base_uri": "https://localhost:8080/"
    },
    "id": "ZRFps2vzqisd",
    "outputId": "a52e88ce-a98e-4f9c-df93-2bbfae0d0daf"
   },
   "outputs": [
    {
     "data": {
      "text/plain": [
       "(36052, 25)"
      ]
     },
     "execution_count": 69,
     "metadata": {
      "tags": []
     },
     "output_type": "execute_result"
    }
   ],
   "source": [
    "project_test.shape"
   ]
  },
  {
   "cell_type": "markdown",
   "metadata": {
    "id": "TmOJ8pqSqise"
   },
   "source": [
    "<h2> 1.5 Appling Models on different kind of featurization as mentioned in the instructions</h2>"
   ]
  },
  {
   "cell_type": "code",
   "execution_count": 70,
   "metadata": {
    "colab": {
     "base_uri": "https://localhost:8080/"
    },
    "id": "hPwvF0sdqise",
    "outputId": "bcf5d3d5-bca7-42eb-d877-7878e3652a76"
   },
   "outputs": [
    {
     "name": "stdout",
     "output_type": "stream",
     "text": [
      "(73196,)\n",
      "(73196,)\n",
      "(73196,)\n",
      "(73196,)\n",
      "(73196,)\n",
      "(73196,)\n",
      "(73196,)\n",
      "(73196,)\n",
      "(73196,)\n",
      "(73196,)\n",
      "(73196,)\n",
      "(73196,)\n",
      "(73196,)\n",
      "(73196,)\n",
      "(73196, 14104)\n",
      "(73196, 2518)\n"
     ]
    }
   ],
   "source": [
    "print(project_train['category_0'].shape)\n",
    "print(project_train['category_1'].shape)\n",
    "print(project_train['subcategory_0'].shape)\n",
    "print(project_train['subcategory_1'].shape)\n",
    "print(project_train['grade_0'].shape)\n",
    "print(project_train['grade_1'].shape)\n",
    "print(project_train['state_0'].shape)\n",
    "print(project_train['state_1'].shape)\n",
    "print(project_train['prefix_0'].shape)\n",
    "print(project_train['prefix_1'].shape)\n",
    "print(negative1.shape)\n",
    "print(positive1.shape)\n",
    "print(neutral1.shape)\n",
    "print(compound1.shape)\n",
    "print(train_essay_tfidf.shape)\n",
    "print(train_title_tfidf.shape)"
   ]
  },
  {
   "cell_type": "code",
   "execution_count": 71,
   "metadata": {
    "id": "ML-T-Uxyqise"
   },
   "outputs": [],
   "source": [
    "arr1 = project_train['category_0'].values\n",
    "project_train_category_0=arr1.reshape(-1,1)\n",
    "\n",
    "arr2 = project_train['category_1'].values\n",
    "project_train_category_1=arr2.reshape(-1,1)\n",
    "\n",
    "arr3 = project_train['subcategory_0'].values\n",
    "project_train_subcategory_0=arr3.reshape(-1,1)\n",
    "\n",
    "arr4 = project_train['subcategory_1'].values\n",
    "project_train_subcategory_1=arr4.reshape(-1,1)\n",
    "\n",
    "arr5 = project_train['grade_0'].values\n",
    "project_train_grade_0=arr5.reshape(-1,1)\n",
    "\n",
    "arr6 = project_train['grade_1'].values\n",
    "project_train_grade_1=arr6.reshape(-1,1)\n",
    "\n",
    "arr7 = project_train['state_0'].values\n",
    "project_train_state_0=arr7.reshape(-1,1)\n",
    "\n",
    "arr8 = project_train['state_1'].values\n",
    "project_train_state_1=arr8.reshape(-1,1)\n",
    "\n",
    "arr9 = project_train['prefix_0'].values\n",
    "project_train_prefix_0=arr9.reshape(-1,1)\n",
    "\n",
    "arr10 = project_train['prefix_1'].values\n",
    "project_train_prefix_1=arr10.reshape(-1,1)\n",
    "\n",
    "arr11 = negative1.values\n",
    "negative_tr=arr11.reshape(-1,1)\n",
    "\n",
    "arr12 = positive1.values\n",
    "positive_tr=arr12.reshape(-1,1)\n",
    "\n",
    "arr13 = neutral1.values\n",
    "neutral_tr=arr13.reshape(-1,1)\n",
    "\n",
    "arr14 = compound1.values\n",
    "compound_tr=arr14.reshape(-1,1)\n",
    "\n",
    "arr15=project_train['price'].values\n",
    "project_train_price=arr15.reshape(-1,1)\n",
    "\n",
    "arr16=project_train['quantity'].values\n",
    "project_train_quantity=arr16.reshape(-1,1)\n",
    "\n",
    "arr17=project_train['teacher_number_of_previously_posted_projects'].values\n",
    "project_train_previousprojects=arr17.reshape(-1,1)\n",
    "\n",
    "arr18 = project_test['category_0'].values\n",
    "project_test_category_0=arr18.reshape(-1,1)\n",
    "\n",
    "arr19 = project_test['category_1'].values\n",
    "project_test_category_1=arr19.reshape(-1,1)\n",
    "\n",
    "arr20 = project_test['subcategory_0'].values\n",
    "project_test_subcategory_0=arr20.reshape(-1,1)\n",
    "\n",
    "arr21 = project_test['subcategory_1'].values\n",
    "project_test_subcategory_1=arr21.reshape(-1,1)\n",
    "\n",
    "arr22 = project_test['grade_0'].values\n",
    "project_test_grade_0=arr22.reshape(-1,1)\n",
    "\n",
    "arr23 = project_test['grade_1'].values\n",
    "project_test_grade_1=arr23.reshape(-1,1)\n",
    "\n",
    "arr24 = project_test['state_0'].values\n",
    "project_test_state_0=arr24.reshape(-1,1)\n",
    "\n",
    "arr25 = project_test['state_1'].values\n",
    "project_test_state_1=arr25.reshape(-1,1)\n",
    "\n",
    "arr26 = project_test['prefix_0'].values\n",
    "project_test_prefix_0=arr26.reshape(-1,1)\n",
    "\n",
    "arr27 = project_test['prefix_1'].values\n",
    "project_test_prefix_1=arr27.reshape(-1,1)\n",
    "\n",
    "arr28 = negative2.values\n",
    "negative_te=arr28.reshape(-1,1)\n",
    "\n",
    "arr29 = positive2.values\n",
    "positive_te=arr29.reshape(-1,1)\n",
    "\n",
    "arr30 = neutral2.values\n",
    "neutral_te=arr30.reshape(-1,1)\n",
    "\n",
    "arr31 = compound2.values\n",
    "compound_te=arr31.reshape(-1,1)\n",
    "\n",
    "arr32=project_test['price'].values\n",
    "project_test_price=arr32.reshape(-1,1)\n",
    "\n",
    "arr33=project_test['quantity'].values\n",
    "project_test_quantity=arr33.reshape(-1,1)\n",
    "\n",
    "arr34=project_test['teacher_number_of_previously_posted_projects'].values\n",
    "project_test_previousprojects=arr34.reshape(-1,1)"
   ]
  },
  {
   "cell_type": "code",
   "execution_count": 72,
   "metadata": {
    "id": "uWmbkWdkqise"
   },
   "outputs": [],
   "source": [
    "from scipy.sparse import hstack \n",
    "\n",
    "X_train = hstack((project_train_category_0, project_train_category_1,project_train_subcategory_0, project_train_subcategory_1,project_train_grade_0, project_train_grade_1,project_train_state_0, project_train_state_1,project_train_prefix_0, project_train_prefix_1, project_train_price, project_train_quantity, project_train_previousprojects, negative_tr, positive_tr, neutral_tr, compound_tr, train_essay_tfidf, train_title_tfidf)).tocsr()\n",
    "X_test =  hstack((project_test_category_0, project_test_category_1,project_test_subcategory_0, project_test_subcategory_1,project_test_grade_0, project_test_grade_1,project_test_state_0, project_test_state_1,project_test_prefix_0, project_test_prefix_1, project_test_price, project_test_quantity, project_test_previousprojects, negative_te, positive_te, neutral_te, compound_te, test_essay_tfidf, test_title_tfidf)).tocsr()"
   ]
  },
  {
   "cell_type": "code",
   "execution_count": 73,
   "metadata": {
    "colab": {
     "base_uri": "https://localhost:8080/"
    },
    "id": "cs27iXThqise",
    "outputId": "5f2d9ae7-aade-4ea2-bd0f-d42a68c77850"
   },
   "outputs": [
    {
     "name": "stdout",
     "output_type": "stream",
     "text": [
      "(73196, 16639)\n",
      "(36052, 16639)\n"
     ]
    }
   ],
   "source": [
    "print(X_train.shape)\n",
    "print(X_test.shape)"
   ]
  },
  {
   "cell_type": "code",
   "execution_count": 74,
   "metadata": {
    "colab": {
     "base_uri": "https://localhost:8080/"
    },
    "id": "QFesElVKqise",
    "outputId": "e320ee13-dcac-4959-a022-c526a62c6543"
   },
   "outputs": [
    {
     "name": "stdout",
     "output_type": "stream",
     "text": [
      "Collecting lightgbm==3.2.1\n",
      "  Downloading lightgbm-3.2.1-py3-none-manylinux1_x86_64.whl (2.0 MB)\n",
      "\u001b[?25l\r",
      "\u001b[K     |▏                               | 10 kB 22.8 MB/s eta 0:00:01\r",
      "\u001b[K     |▎                               | 20 kB 29.1 MB/s eta 0:00:01\r",
      "\u001b[K     |▌                               | 30 kB 33.1 MB/s eta 0:00:01\r",
      "\u001b[K     |▋                               | 40 kB 34.4 MB/s eta 0:00:01\r",
      "\u001b[K     |▉                               | 51 kB 32.6 MB/s eta 0:00:01\r",
      "\u001b[K     |█                               | 61 kB 26.8 MB/s eta 0:00:01\r",
      "\u001b[K     |█▏                              | 71 kB 26.3 MB/s eta 0:00:01\r",
      "\u001b[K     |█▎                              | 81 kB 27.9 MB/s eta 0:00:01\r",
      "\u001b[K     |█▌                              | 92 kB 28.8 MB/s eta 0:00:01\r",
      "\u001b[K     |█▋                              | 102 kB 28.7 MB/s eta 0:00:01\r",
      "\u001b[K     |█▉                              | 112 kB 28.7 MB/s eta 0:00:01\r",
      "\u001b[K     |██                              | 122 kB 28.7 MB/s eta 0:00:01\r",
      "\u001b[K     |██▏                             | 133 kB 28.7 MB/s eta 0:00:01\r",
      "\u001b[K     |██▎                             | 143 kB 28.7 MB/s eta 0:00:01\r",
      "\u001b[K     |██▌                             | 153 kB 28.7 MB/s eta 0:00:01\r",
      "\u001b[K     |██▋                             | 163 kB 28.7 MB/s eta 0:00:01\r",
      "\u001b[K     |██▉                             | 174 kB 28.7 MB/s eta 0:00:01\r",
      "\u001b[K     |███                             | 184 kB 28.7 MB/s eta 0:00:01\r",
      "\u001b[K     |███▏                            | 194 kB 28.7 MB/s eta 0:00:01\r",
      "\u001b[K     |███▎                            | 204 kB 28.7 MB/s eta 0:00:01\r",
      "\u001b[K     |███▌                            | 215 kB 28.7 MB/s eta 0:00:01\r",
      "\u001b[K     |███▋                            | 225 kB 28.7 MB/s eta 0:00:01\r",
      "\u001b[K     |███▉                            | 235 kB 28.7 MB/s eta 0:00:01\r",
      "\u001b[K     |████                            | 245 kB 28.7 MB/s eta 0:00:01\r",
      "\u001b[K     |████▏                           | 256 kB 28.7 MB/s eta 0:00:01\r",
      "\u001b[K     |████▎                           | 266 kB 28.7 MB/s eta 0:00:01\r",
      "\u001b[K     |████▌                           | 276 kB 28.7 MB/s eta 0:00:01\r",
      "\u001b[K     |████▋                           | 286 kB 28.7 MB/s eta 0:00:01\r",
      "\u001b[K     |████▊                           | 296 kB 28.7 MB/s eta 0:00:01\r",
      "\u001b[K     |█████                           | 307 kB 28.7 MB/s eta 0:00:01\r",
      "\u001b[K     |█████                           | 317 kB 28.7 MB/s eta 0:00:01\r",
      "\u001b[K     |█████▎                          | 327 kB 28.7 MB/s eta 0:00:01\r",
      "\u001b[K     |█████▍                          | 337 kB 28.7 MB/s eta 0:00:01\r",
      "\u001b[K     |█████▋                          | 348 kB 28.7 MB/s eta 0:00:01\r",
      "\u001b[K     |█████▊                          | 358 kB 28.7 MB/s eta 0:00:01\r",
      "\u001b[K     |██████                          | 368 kB 28.7 MB/s eta 0:00:01\r",
      "\u001b[K     |██████                          | 378 kB 28.7 MB/s eta 0:00:01\r",
      "\u001b[K     |██████▎                         | 389 kB 28.7 MB/s eta 0:00:01\r",
      "\u001b[K     |██████▍                         | 399 kB 28.7 MB/s eta 0:00:01\r",
      "\u001b[K     |██████▋                         | 409 kB 28.7 MB/s eta 0:00:01\r",
      "\u001b[K     |██████▊                         | 419 kB 28.7 MB/s eta 0:00:01\r",
      "\u001b[K     |███████                         | 430 kB 28.7 MB/s eta 0:00:01\r",
      "\u001b[K     |███████                         | 440 kB 28.7 MB/s eta 0:00:01\r",
      "\u001b[K     |███████▎                        | 450 kB 28.7 MB/s eta 0:00:01\r",
      "\u001b[K     |███████▍                        | 460 kB 28.7 MB/s eta 0:00:01\r",
      "\u001b[K     |███████▋                        | 471 kB 28.7 MB/s eta 0:00:01\r",
      "\u001b[K     |███████▊                        | 481 kB 28.7 MB/s eta 0:00:01\r",
      "\u001b[K     |████████                        | 491 kB 28.7 MB/s eta 0:00:01\r",
      "\u001b[K     |████████                        | 501 kB 28.7 MB/s eta 0:00:01\r",
      "\u001b[K     |████████▎                       | 512 kB 28.7 MB/s eta 0:00:01\r",
      "\u001b[K     |████████▍                       | 522 kB 28.7 MB/s eta 0:00:01\r",
      "\u001b[K     |████████▋                       | 532 kB 28.7 MB/s eta 0:00:01\r",
      "\u001b[K     |████████▊                       | 542 kB 28.7 MB/s eta 0:00:01\r",
      "\u001b[K     |█████████                       | 552 kB 28.7 MB/s eta 0:00:01\r",
      "\u001b[K     |█████████                       | 563 kB 28.7 MB/s eta 0:00:01\r",
      "\u001b[K     |█████████▎                      | 573 kB 28.7 MB/s eta 0:00:01\r",
      "\u001b[K     |█████████▍                      | 583 kB 28.7 MB/s eta 0:00:01\r",
      "\u001b[K     |█████████▌                      | 593 kB 28.7 MB/s eta 0:00:01\r",
      "\u001b[K     |█████████▊                      | 604 kB 28.7 MB/s eta 0:00:01\r",
      "\u001b[K     |█████████▉                      | 614 kB 28.7 MB/s eta 0:00:01\r",
      "\u001b[K     |██████████                      | 624 kB 28.7 MB/s eta 0:00:01\r",
      "\u001b[K     |██████████▏                     | 634 kB 28.7 MB/s eta 0:00:01\r",
      "\u001b[K     |██████████▍                     | 645 kB 28.7 MB/s eta 0:00:01\r",
      "\u001b[K     |██████████▌                     | 655 kB 28.7 MB/s eta 0:00:01\r",
      "\u001b[K     |██████████▊                     | 665 kB 28.7 MB/s eta 0:00:01\r",
      "\u001b[K     |██████████▉                     | 675 kB 28.7 MB/s eta 0:00:01\r",
      "\u001b[K     |███████████                     | 686 kB 28.7 MB/s eta 0:00:01\r",
      "\u001b[K     |███████████▏                    | 696 kB 28.7 MB/s eta 0:00:01\r",
      "\u001b[K     |███████████▍                    | 706 kB 28.7 MB/s eta 0:00:01\r",
      "\u001b[K     |███████████▌                    | 716 kB 28.7 MB/s eta 0:00:01\r",
      "\u001b[K     |███████████▊                    | 727 kB 28.7 MB/s eta 0:00:01\r",
      "\u001b[K     |███████████▉                    | 737 kB 28.7 MB/s eta 0:00:01\r",
      "\u001b[K     |████████████                    | 747 kB 28.7 MB/s eta 0:00:01\r",
      "\u001b[K     |████████████▏                   | 757 kB 28.7 MB/s eta 0:00:01\r",
      "\u001b[K     |████████████▍                   | 768 kB 28.7 MB/s eta 0:00:01\r",
      "\u001b[K     |████████████▌                   | 778 kB 28.7 MB/s eta 0:00:01\r",
      "\u001b[K     |████████████▊                   | 788 kB 28.7 MB/s eta 0:00:01\r",
      "\u001b[K     |████████████▉                   | 798 kB 28.7 MB/s eta 0:00:01\r",
      "\u001b[K     |█████████████                   | 808 kB 28.7 MB/s eta 0:00:01\r",
      "\u001b[K     |█████████████▏                  | 819 kB 28.7 MB/s eta 0:00:01\r",
      "\u001b[K     |█████████████▍                  | 829 kB 28.7 MB/s eta 0:00:01\r",
      "\u001b[K     |█████████████▌                  | 839 kB 28.7 MB/s eta 0:00:01\r",
      "\u001b[K     |█████████████▊                  | 849 kB 28.7 MB/s eta 0:00:01\r",
      "\u001b[K     |█████████████▉                  | 860 kB 28.7 MB/s eta 0:00:01\r",
      "\u001b[K     |██████████████                  | 870 kB 28.7 MB/s eta 0:00:01\r",
      "\u001b[K     |██████████████▏                 | 880 kB 28.7 MB/s eta 0:00:01\r",
      "\u001b[K     |██████████████▎                 | 890 kB 28.7 MB/s eta 0:00:01\r",
      "\u001b[K     |██████████████▌                 | 901 kB 28.7 MB/s eta 0:00:01\r",
      "\u001b[K     |██████████████▋                 | 911 kB 28.7 MB/s eta 0:00:01\r",
      "\u001b[K     |██████████████▉                 | 921 kB 28.7 MB/s eta 0:00:01\r",
      "\u001b[K     |███████████████                 | 931 kB 28.7 MB/s eta 0:00:01\r",
      "\u001b[K     |███████████████▏                | 942 kB 28.7 MB/s eta 0:00:01\r",
      "\u001b[K     |███████████████▎                | 952 kB 28.7 MB/s eta 0:00:01\r",
      "\u001b[K     |███████████████▌                | 962 kB 28.7 MB/s eta 0:00:01\r",
      "\u001b[K     |███████████████▋                | 972 kB 28.7 MB/s eta 0:00:01\r",
      "\u001b[K     |███████████████▉                | 983 kB 28.7 MB/s eta 0:00:01\r",
      "\u001b[K     |████████████████                | 993 kB 28.7 MB/s eta 0:00:01\r",
      "\u001b[K     |████████████████▏               | 1.0 MB 28.7 MB/s eta 0:00:01\r",
      "\u001b[K     |████████████████▎               | 1.0 MB 28.7 MB/s eta 0:00:01\r",
      "\u001b[K     |████████████████▌               | 1.0 MB 28.7 MB/s eta 0:00:01\r",
      "\u001b[K     |████████████████▋               | 1.0 MB 28.7 MB/s eta 0:00:01\r",
      "\u001b[K     |████████████████▉               | 1.0 MB 28.7 MB/s eta 0:00:01\r",
      "\u001b[K     |█████████████████               | 1.1 MB 28.7 MB/s eta 0:00:01\r",
      "\u001b[K     |█████████████████▏              | 1.1 MB 28.7 MB/s eta 0:00:01\r",
      "\u001b[K     |█████████████████▎              | 1.1 MB 28.7 MB/s eta 0:00:01\r",
      "\u001b[K     |█████████████████▌              | 1.1 MB 28.7 MB/s eta 0:00:01\r",
      "\u001b[K     |█████████████████▋              | 1.1 MB 28.7 MB/s eta 0:00:01\r",
      "\u001b[K     |█████████████████▉              | 1.1 MB 28.7 MB/s eta 0:00:01\r",
      "\u001b[K     |██████████████████              | 1.1 MB 28.7 MB/s eta 0:00:01\r",
      "\u001b[K     |██████████████████▏             | 1.1 MB 28.7 MB/s eta 0:00:01\r",
      "\u001b[K     |██████████████████▎             | 1.1 MB 28.7 MB/s eta 0:00:01\r",
      "\u001b[K     |██████████████████▌             | 1.1 MB 28.7 MB/s eta 0:00:01\r",
      "\u001b[K     |██████████████████▋             | 1.2 MB 28.7 MB/s eta 0:00:01\r",
      "\u001b[K     |██████████████████▊             | 1.2 MB 28.7 MB/s eta 0:00:01\r",
      "\u001b[K     |███████████████████             | 1.2 MB 28.7 MB/s eta 0:00:01\r",
      "\u001b[K     |███████████████████             | 1.2 MB 28.7 MB/s eta 0:00:01\r",
      "\u001b[K     |███████████████████▎            | 1.2 MB 28.7 MB/s eta 0:00:01\r",
      "\u001b[K     |███████████████████▍            | 1.2 MB 28.7 MB/s eta 0:00:01\r",
      "\u001b[K     |███████████████████▋            | 1.2 MB 28.7 MB/s eta 0:00:01\r",
      "\u001b[K     |███████████████████▊            | 1.2 MB 28.7 MB/s eta 0:00:01\r",
      "\u001b[K     |████████████████████            | 1.2 MB 28.7 MB/s eta 0:00:01\r",
      "\u001b[K     |████████████████████            | 1.2 MB 28.7 MB/s eta 0:00:01\r",
      "\u001b[K     |████████████████████▎           | 1.3 MB 28.7 MB/s eta 0:00:01\r",
      "\u001b[K     |████████████████████▍           | 1.3 MB 28.7 MB/s eta 0:00:01\r",
      "\u001b[K     |████████████████████▋           | 1.3 MB 28.7 MB/s eta 0:00:01\r",
      "\u001b[K     |████████████████████▊           | 1.3 MB 28.7 MB/s eta 0:00:01\r",
      "\u001b[K     |█████████████████████           | 1.3 MB 28.7 MB/s eta 0:00:01\r",
      "\u001b[K     |█████████████████████           | 1.3 MB 28.7 MB/s eta 0:00:01\r",
      "\u001b[K     |█████████████████████▎          | 1.3 MB 28.7 MB/s eta 0:00:01\r",
      "\u001b[K     |█████████████████████▍          | 1.3 MB 28.7 MB/s eta 0:00:01\r",
      "\u001b[K     |█████████████████████▋          | 1.3 MB 28.7 MB/s eta 0:00:01\r",
      "\u001b[K     |█████████████████████▊          | 1.4 MB 28.7 MB/s eta 0:00:01\r",
      "\u001b[K     |██████████████████████          | 1.4 MB 28.7 MB/s eta 0:00:01\r",
      "\u001b[K     |██████████████████████          | 1.4 MB 28.7 MB/s eta 0:00:01\r",
      "\u001b[K     |██████████████████████▎         | 1.4 MB 28.7 MB/s eta 0:00:01\r",
      "\u001b[K     |██████████████████████▍         | 1.4 MB 28.7 MB/s eta 0:00:01\r",
      "\u001b[K     |██████████████████████▋         | 1.4 MB 28.7 MB/s eta 0:00:01\r",
      "\u001b[K     |██████████████████████▊         | 1.4 MB 28.7 MB/s eta 0:00:01\r",
      "\u001b[K     |███████████████████████         | 1.4 MB 28.7 MB/s eta 0:00:01\r",
      "\u001b[K     |███████████████████████         | 1.4 MB 28.7 MB/s eta 0:00:01\r",
      "\u001b[K     |███████████████████████▎        | 1.4 MB 28.7 MB/s eta 0:00:01\r",
      "\u001b[K     |███████████████████████▍        | 1.5 MB 28.7 MB/s eta 0:00:01\r",
      "\u001b[K     |███████████████████████▌        | 1.5 MB 28.7 MB/s eta 0:00:01\r",
      "\u001b[K     |███████████████████████▊        | 1.5 MB 28.7 MB/s eta 0:00:01\r",
      "\u001b[K     |███████████████████████▉        | 1.5 MB 28.7 MB/s eta 0:00:01\r",
      "\u001b[K     |████████████████████████        | 1.5 MB 28.7 MB/s eta 0:00:01\r",
      "\u001b[K     |████████████████████████▏       | 1.5 MB 28.7 MB/s eta 0:00:01\r",
      "\u001b[K     |████████████████████████▍       | 1.5 MB 28.7 MB/s eta 0:00:01\r",
      "\u001b[K     |████████████████████████▌       | 1.5 MB 28.7 MB/s eta 0:00:01\r",
      "\u001b[K     |████████████████████████▊       | 1.5 MB 28.7 MB/s eta 0:00:01\r",
      "\u001b[K     |████████████████████████▉       | 1.5 MB 28.7 MB/s eta 0:00:01\r",
      "\u001b[K     |█████████████████████████       | 1.6 MB 28.7 MB/s eta 0:00:01\r",
      "\u001b[K     |█████████████████████████▏      | 1.6 MB 28.7 MB/s eta 0:00:01\r",
      "\u001b[K     |█████████████████████████▍      | 1.6 MB 28.7 MB/s eta 0:00:01\r",
      "\u001b[K     |█████████████████████████▌      | 1.6 MB 28.7 MB/s eta 0:00:01\r",
      "\u001b[K     |█████████████████████████▊      | 1.6 MB 28.7 MB/s eta 0:00:01\r",
      "\u001b[K     |█████████████████████████▉      | 1.6 MB 28.7 MB/s eta 0:00:01\r",
      "\u001b[K     |██████████████████████████      | 1.6 MB 28.7 MB/s eta 0:00:01\r",
      "\u001b[K     |██████████████████████████▏     | 1.6 MB 28.7 MB/s eta 0:00:01\r",
      "\u001b[K     |██████████████████████████▍     | 1.6 MB 28.7 MB/s eta 0:00:01\r",
      "\u001b[K     |██████████████████████████▌     | 1.6 MB 28.7 MB/s eta 0:00:01\r",
      "\u001b[K     |██████████████████████████▊     | 1.7 MB 28.7 MB/s eta 0:00:01\r",
      "\u001b[K     |██████████████████████████▉     | 1.7 MB 28.7 MB/s eta 0:00:01\r",
      "\u001b[K     |███████████████████████████     | 1.7 MB 28.7 MB/s eta 0:00:01\r",
      "\u001b[K     |███████████████████████████▏    | 1.7 MB 28.7 MB/s eta 0:00:01\r",
      "\u001b[K     |███████████████████████████▍    | 1.7 MB 28.7 MB/s eta 0:00:01\r",
      "\u001b[K     |███████████████████████████▌    | 1.7 MB 28.7 MB/s eta 0:00:01\r",
      "\u001b[K     |███████████████████████████▊    | 1.7 MB 28.7 MB/s eta 0:00:01\r",
      "\u001b[K     |███████████████████████████▉    | 1.7 MB 28.7 MB/s eta 0:00:01\r",
      "\u001b[K     |████████████████████████████    | 1.7 MB 28.7 MB/s eta 0:00:01\r",
      "\u001b[K     |████████████████████████████▏   | 1.8 MB 28.7 MB/s eta 0:00:01\r",
      "\u001b[K     |████████████████████████████▎   | 1.8 MB 28.7 MB/s eta 0:00:01\r",
      "\u001b[K     |████████████████████████████▌   | 1.8 MB 28.7 MB/s eta 0:00:01\r",
      "\u001b[K     |████████████████████████████▋   | 1.8 MB 28.7 MB/s eta 0:00:01\r",
      "\u001b[K     |████████████████████████████▉   | 1.8 MB 28.7 MB/s eta 0:00:01\r",
      "\u001b[K     |█████████████████████████████   | 1.8 MB 28.7 MB/s eta 0:00:01\r",
      "\u001b[K     |█████████████████████████████▏  | 1.8 MB 28.7 MB/s eta 0:00:01\r",
      "\u001b[K     |█████████████████████████████▎  | 1.8 MB 28.7 MB/s eta 0:00:01\r",
      "\u001b[K     |█████████████████████████████▌  | 1.8 MB 28.7 MB/s eta 0:00:01\r",
      "\u001b[K     |█████████████████████████████▋  | 1.8 MB 28.7 MB/s eta 0:00:01\r",
      "\u001b[K     |█████████████████████████████▉  | 1.9 MB 28.7 MB/s eta 0:00:01\r",
      "\u001b[K     |██████████████████████████████  | 1.9 MB 28.7 MB/s eta 0:00:01\r",
      "\u001b[K     |██████████████████████████████▏ | 1.9 MB 28.7 MB/s eta 0:00:01\r",
      "\u001b[K     |██████████████████████████████▎ | 1.9 MB 28.7 MB/s eta 0:00:01\r",
      "\u001b[K     |██████████████████████████████▌ | 1.9 MB 28.7 MB/s eta 0:00:01\r",
      "\u001b[K     |██████████████████████████████▋ | 1.9 MB 28.7 MB/s eta 0:00:01\r",
      "\u001b[K     |██████████████████████████████▉ | 1.9 MB 28.7 MB/s eta 0:00:01\r",
      "\u001b[K     |███████████████████████████████ | 1.9 MB 28.7 MB/s eta 0:00:01\r",
      "\u001b[K     |███████████████████████████████▏| 1.9 MB 28.7 MB/s eta 0:00:01\r",
      "\u001b[K     |███████████████████████████████▎| 1.9 MB 28.7 MB/s eta 0:00:01\r",
      "\u001b[K     |███████████████████████████████▌| 2.0 MB 28.7 MB/s eta 0:00:01\r",
      "\u001b[K     |███████████████████████████████▋| 2.0 MB 28.7 MB/s eta 0:00:01\r",
      "\u001b[K     |███████████████████████████████▉| 2.0 MB 28.7 MB/s eta 0:00:01\r",
      "\u001b[K     |████████████████████████████████| 2.0 MB 28.7 MB/s eta 0:00:01\r",
      "\u001b[K     |████████████████████████████████| 2.0 MB 28.7 MB/s \n",
      "\u001b[?25hRequirement already satisfied: scikit-learn!=0.22.0 in /usr/local/lib/python3.7/dist-packages (from lightgbm==3.2.1) (0.22.2.post1)\n",
      "Requirement already satisfied: scipy in /usr/local/lib/python3.7/dist-packages (from lightgbm==3.2.1) (1.4.1)\n",
      "Requirement already satisfied: wheel in /usr/local/lib/python3.7/dist-packages (from lightgbm==3.2.1) (0.36.2)\n",
      "Requirement already satisfied: numpy in /usr/local/lib/python3.7/dist-packages (from lightgbm==3.2.1) (1.19.5)\n",
      "Requirement already satisfied: joblib>=0.11 in /usr/local/lib/python3.7/dist-packages (from scikit-learn!=0.22.0->lightgbm==3.2.1) (1.0.1)\n",
      "Installing collected packages: lightgbm\n",
      "  Attempting uninstall: lightgbm\n",
      "    Found existing installation: lightgbm 2.2.3\n",
      "    Uninstalling lightgbm-2.2.3:\n",
      "      Successfully uninstalled lightgbm-2.2.3\n",
      "Successfully installed lightgbm-3.2.1\n"
     ]
    }
   ],
   "source": [
    "!pip install lightgbm==3.2.1\n",
    "from sklearn.model_selection import GridSearchCV\n",
    "import lightgbm as lgbm"
   ]
  },
  {
   "cell_type": "code",
   "execution_count": 75,
   "metadata": {
    "id": "xUG7E7Rcqisf"
   },
   "outputs": [],
   "source": [
    "gbdt= lgbm.LGBMClassifier()\n",
    "\n",
    "grid_params = {'n_estimators': [10, 50, 100, 150, 200, 300, 500, 1000], 'max_depth':[2, 3, 4, 5, 6, 7, 8, 9, 10]}"
   ]
  },
  {
   "cell_type": "code",
   "execution_count": 76,
   "metadata": {
    "colab": {
     "base_uri": "https://localhost:8080/"
    },
    "id": "PJdUQtl9qisf",
    "outputId": "6244e4a7-674b-4745-da70-f8e954e18ad0"
   },
   "outputs": [
    {
     "data": {
      "text/plain": [
       "GridSearchCV(cv=3, error_score=nan,\n",
       "             estimator=LGBMClassifier(boosting_type='gbdt', class_weight=None,\n",
       "                                      colsample_bytree=1.0,\n",
       "                                      importance_type='split',\n",
       "                                      learning_rate=0.1, max_depth=-1,\n",
       "                                      min_child_samples=20,\n",
       "                                      min_child_weight=0.001,\n",
       "                                      min_split_gain=0.0, n_estimators=100,\n",
       "                                      n_jobs=-1, num_leaves=31, objective=None,\n",
       "                                      random_state=None, reg_alpha=0.0,\n",
       "                                      reg_lambda=0.0, silent=True,\n",
       "                                      subsample=1.0, subsample_for_bin=200000,\n",
       "                                      subsample_freq=0),\n",
       "             iid='deprecated', n_jobs=-1,\n",
       "             param_grid={'max_depth': [2, 3, 4, 5, 6, 7, 8, 9, 10],\n",
       "                         'n_estimators': [10, 50, 100, 150, 200, 300, 500,\n",
       "                                          1000]},\n",
       "             pre_dispatch='2*n_jobs', refit=True, return_train_score=True,\n",
       "             scoring='roc_auc', verbose=0)"
      ]
     },
     "execution_count": 76,
     "metadata": {
      "tags": []
     },
     "output_type": "execute_result"
    }
   ],
   "source": [
    "gs = GridSearchCV(gbdt, grid_params, cv=3, scoring='roc_auc',return_train_score=True,n_jobs=-1)\n",
    "gs.fit(X_train, project_y_train)\n"
   ]
  },
  {
   "cell_type": "code",
   "execution_count": 77,
   "metadata": {
    "colab": {
     "base_uri": "https://localhost:8080/"
    },
    "id": "SXeSvgS1qisf",
    "outputId": "91d0768b-b5dd-4662-c21a-9c746618818c"
   },
   "outputs": [
    {
     "name": "stdout",
     "output_type": "stream",
     "text": [
      "Best score:  0.7537153827933327\n",
      "k value with best score:  {'max_depth': 2, 'n_estimators': 1000}\n",
      "====================================================================================================\n",
      "Train AUC scores\n",
      "[0.68021713 0.72669317 0.74829857 0.7618938  0.77267215 0.78990943\n",
      " 0.81419255 0.85357183 0.70057579 0.75132779 0.7780611  0.79622822\n",
      " 0.81073266 0.83330512 0.86401861 0.91075444 0.71969404 0.78017575\n",
      " 0.81203824 0.83361759 0.84911443 0.87255937 0.90502551 0.95066419\n",
      " 0.74262257 0.8102713  0.84579063 0.86829398 0.88436121 0.90766385\n",
      " 0.93823218 0.97629629 0.74974803 0.8286223  0.86835022 0.89120897\n",
      " 0.90819838 0.93108881 0.95907955 0.98928545 0.75049681 0.83840854\n",
      " 0.88178784 0.9060401  0.92342188 0.94564397 0.97176682 0.99484997\n",
      " 0.74919973 0.84158563 0.88797574 0.91460272 0.93228326 0.95543449\n",
      " 0.98008075 0.99787991 0.74794495 0.84316489 0.89292755 0.92007112\n",
      " 0.93905126 0.96255108 0.984971   0.99905655 0.74689062 0.84423789\n",
      " 0.89502556 0.92301966 0.94208524 0.96546619 0.98793025 0.99948097]\n",
      "CV AUC scores\n",
      "[0.67322504 0.71492802 0.73019404 0.73758948 0.74157477 0.74710274\n",
      " 0.75183695 0.75371538 0.68827808 0.72790958 0.73982686 0.74509042\n",
      " 0.7483121  0.75207967 0.75368956 0.75225642 0.69593158 0.73277596\n",
      " 0.74276302 0.74687437 0.74939483 0.75136293 0.75191158 0.74953576\n",
      " 0.70301597 0.7366975  0.74536473 0.74931093 0.75084207 0.75185491\n",
      " 0.75171811 0.74896298 0.70749706 0.73819111 0.74654578 0.74977023\n",
      " 0.75042975 0.75129164 0.74955618 0.74495121 0.71044212 0.7406164\n",
      " 0.74822083 0.75001269 0.75104756 0.75085317 0.7494412  0.74483101\n",
      " 0.71200094 0.74221221 0.74827542 0.75067947 0.75057253 0.74991043\n",
      " 0.74764652 0.74251103 0.71284159 0.74256986 0.74864756 0.75057333\n",
      " 0.75024906 0.74987774 0.7474491  0.74149315 0.71308121 0.74528737\n",
      " 0.75057726 0.75201751 0.75198835 0.75083448 0.74826987 0.74139741]\n"
     ]
    }
   ],
   "source": [
    "print('Best score: ',gs.best_score_)\n",
    "print('k value with best score: ',gs.best_params_)\n",
    "print('='*100)\n",
    "print('Train AUC scores')\n",
    "print(gs.cv_results_['mean_train_score'])\n",
    "print('CV AUC scores')\n",
    "print(gs.cv_results_['mean_test_score'])\n"
   ]
  },
  {
   "cell_type": "code",
   "execution_count": 78,
   "metadata": {
    "colab": {
     "base_uri": "https://localhost:8080/"
    },
    "id": "HYIsNoAKqisf",
    "outputId": "6726fdf6-7e95-4f27-ce46-366d50eb4889"
   },
   "outputs": [
    {
     "name": "stdout",
     "output_type": "stream",
     "text": [
      "Best score:  0.7537153827933327\n",
      "k value with best score:  {'max_depth': 2, 'n_estimators': 1000}\n",
      "===========================================================================\n",
      "Train AUC scores\n",
      "[0.68021713 0.72669317 0.74829857 0.7618938  0.77267215 0.78990943\n",
      " 0.81419255 0.85357183 0.70057579 0.75132779 0.7780611  0.79622822\n",
      " 0.81073266 0.83330512 0.86401861 0.91075444 0.71969404 0.78017575\n",
      " 0.81203824 0.83361759 0.84911443 0.87255937 0.90502551 0.95066419\n",
      " 0.74262257 0.8102713  0.84579063 0.86829398 0.88436121 0.90766385\n",
      " 0.93823218 0.97629629 0.74974803 0.8286223  0.86835022 0.89120897\n",
      " 0.90819838 0.93108881 0.95907955 0.98928545 0.75049681 0.83840854\n",
      " 0.88178784 0.9060401  0.92342188 0.94564397 0.97176682 0.99484997\n",
      " 0.74919973 0.84158563 0.88797574 0.91460272 0.93228326 0.95543449\n",
      " 0.98008075 0.99787991 0.74794495 0.84316489 0.89292755 0.92007112\n",
      " 0.93905126 0.96255108 0.984971   0.99905655 0.74689062 0.84423789\n",
      " 0.89502556 0.92301966 0.94208524 0.96546619 0.98793025 0.99948097]\n",
      "CV AUC scores\n",
      "[0.67322504 0.71492802 0.73019404 0.73758948 0.74157477 0.74710274\n",
      " 0.75183695 0.75371538 0.68827808 0.72790958 0.73982686 0.74509042\n",
      " 0.7483121  0.75207967 0.75368956 0.75225642 0.69593158 0.73277596\n",
      " 0.74276302 0.74687437 0.74939483 0.75136293 0.75191158 0.74953576\n",
      " 0.70301597 0.7366975  0.74536473 0.74931093 0.75084207 0.75185491\n",
      " 0.75171811 0.74896298 0.70749706 0.73819111 0.74654578 0.74977023\n",
      " 0.75042975 0.75129164 0.74955618 0.74495121 0.71044212 0.7406164\n",
      " 0.74822083 0.75001269 0.75104756 0.75085317 0.7494412  0.74483101\n",
      " 0.71200094 0.74221221 0.74827542 0.75067947 0.75057253 0.74991043\n",
      " 0.74764652 0.74251103 0.71284159 0.74256986 0.74864756 0.75057333\n",
      " 0.75024906 0.74987774 0.7474491  0.74149315 0.71308121 0.74528737\n",
      " 0.75057726 0.75201751 0.75198835 0.75083448 0.74826987 0.74139741]\n"
     ]
    }
   ],
   "source": [
    "print('Best score: ',gs.best_score_)\n",
    "print('k value with best score: ',gs.best_params_)\n",
    "print('='*75)\n",
    "print('Train AUC scores')\n",
    "print(gs.cv_results_['mean_train_score'])\n",
    "print('CV AUC scores')\n",
    "print(gs.cv_results_['mean_test_score'])"
   ]
  },
  {
   "cell_type": "code",
   "execution_count": 79,
   "metadata": {
    "colab": {
     "base_uri": "https://localhost:8080/",
     "height": 410
    },
    "id": "obZA_Y1Fqisf",
    "outputId": "a0e5944a-eece-4c29-9f2c-86b148e91274"
   },
   "outputs": [
    {
     "data": {
      "image/png": "[encoded data removed]",
      "text/plain": [
       "<Figure size 1440x432 with 4 Axes>"
      ]
     },
     "metadata": {
      "tags": []
     },
     "output_type": "display_data"
    }
   ],
   "source": [
    "import seaborn as sns; sns.set()\n",
    "max_scores1 = pd.DataFrame(gs.cv_results_).groupby(['param_n_estimators', 'param_max_depth']).max().unstack()[['mean_test_score', 'mean_train_score']]\n",
    "fig, ax = plt.subplots(1,2, figsize=(20,6))\n",
    "sns.heatmap(max_scores1.mean_train_score, annot = True, fmt='.4g', ax=ax[0])\n",
    "sns.heatmap(max_scores1.mean_test_score, annot = True, fmt='.4g', ax=ax[1])\n",
    "ax[0].set_title('Train Set')\n",
    "ax[1].set_title('CV Set')\n",
    "plt.show()"
   ]
  },
  {
   "cell_type": "code",
   "execution_count": 80,
   "metadata": {
    "id": "4byEfUFVqisf"
   },
   "outputs": [],
   "source": [
    "max_depth = gs.best_params_['max_depth']\n",
    "n_estimators = gs.best_params_['n_estimators']"
   ]
  },
  {
   "cell_type": "code",
   "execution_count": 81,
   "metadata": {
    "colab": {
     "base_uri": "https://localhost:8080/"
    },
    "id": "cf8JAMLKqisf",
    "outputId": "316697a4-31db-48e5-d73d-79eb8ea6398a"
   },
   "outputs": [
    {
     "name": "stdout",
     "output_type": "stream",
     "text": [
      "2\n",
      "1000\n"
     ]
    }
   ],
   "source": [
    "print(max_depth)\n",
    "print(n_estimators)"
   ]
  },
  {
   "cell_type": "code",
   "execution_count": 82,
   "metadata": {
    "colab": {
     "base_uri": "https://localhost:8080/",
     "height": 301
    },
    "id": "X4ZGPSxaqisg",
    "outputId": "b9861136-1725-493f-faf8-95096a15abb9"
   },
   "outputs": [
    {
     "data": {
      "image/png": "[encoded data removed]",
      "text/plain": [
       "<Figure size 432x288 with 1 Axes>"
      ]
     },
     "metadata": {
      "tags": []
     },
     "output_type": "display_data"
    }
   ],
   "source": [
    "from sklearn.metrics import roc_curve, auc\n",
    "model = lgbm.LGBMClassifier(max_depth = max_depth, n_estimators = n_estimators)\n",
    "\n",
    "model.fit(X_train,project_y_train)\n",
    "\n",
    "y_train_pred = model.predict_proba(X_train)[:,1]     \n",
    "y_test_pred = model.predict_proba(X_test)[:,1] \n",
    "\n",
    "train_fpr, train_tpr, tr_thresholds = roc_curve(project_y_train, y_train_pred)\n",
    "test_fpr, test_tpr, te_thresholds = roc_curve(project_y_test, y_test_pred)\n",
    "\n",
    "plt.plot(train_fpr, train_tpr, label=\"Train AUC =\"+str(auc(train_fpr, train_tpr)))\n",
    "plt.plot(test_fpr, test_tpr, label=\"Test AUC =\"+str(auc(test_fpr, test_tpr)))\n",
    "plt.legend()\n",
    "plt.xlabel(\"False Positive Rate\")\n",
    "plt.ylabel(\"True Positive Rate\")\n",
    "plt.title(\"AUC ROC Curve \")\n",
    "plt.grid(color='black', linestyle='-', linewidth=1)\n",
    "plt.show()"
   ]
  },
  {
   "cell_type": "code",
   "execution_count": 83,
   "metadata": {
    "id": "b1zwr9niqisg"
   },
   "outputs": [],
   "source": [
    "def find_best_threshold(threshold, fpr, tpr):\n",
    "    t = threshold[np.argmax(tpr*(1-fpr))]\n",
    "    # (tpr*(1-fpr)) will be maximum if your fpr is very low and tpr is very high\n",
    "    print(\"the maximum value of tpr*(1-fpr)\", max(tpr*(1-fpr)), \"for threshold\", np.round(t,3))\n",
    "    return t\n",
    "\n",
    "def predict_with_best_t(proba, threshold):\n",
    "    predictions = []\n",
    "    for i in proba:\n",
    "        if i>=threshold:\n",
    "            predictions.append(1)\n",
    "        else:\n",
    "            predictions.append(0)\n",
    "    return predictions"
   ]
  },
  {
   "cell_type": "code",
   "execution_count": 84,
   "metadata": {
    "colab": {
     "base_uri": "https://localhost:8080/"
    },
    "id": "hFNQBQSxqisg",
    "outputId": "1e55ea43-0ff1-4c58-b576-8637a3baa885"
   },
   "outputs": [
    {
     "name": "stdout",
     "output_type": "stream",
     "text": [
      "the maximum value of tpr*(1-fpr) 0.5679551316898147 for threshold 0.829\n",
      "Train confusion matrix\n",
      "[[ 8256  2827]\n",
      " [14756 47357]]\n"
     ]
    }
   ],
   "source": [
    "best_t = find_best_threshold(tr_thresholds, train_fpr, train_tpr)\n",
    "print(\"Train confusion matrix\")\n",
    "print(confusion_matrix(project_y_train, predict_with_best_t(y_train_pred, best_t)))"
   ]
  },
  {
   "cell_type": "code",
   "execution_count": 85,
   "metadata": {
    "colab": {
     "base_uri": "https://localhost:8080/",
     "height": 308
    },
    "id": "OfegjNdwqisg",
    "outputId": "7ce6587e-e4ed-4ba6-8b52-ca58e74de685"
   },
   "outputs": [
    {
     "name": "stdout",
     "output_type": "stream",
     "text": [
      "Train data confusion matrix\n"
     ]
    },
    {
     "data": {
      "text/plain": [
       "<matplotlib.axes._subplots.AxesSubplot at 0x7f6370885990>"
      ]
     },
     "execution_count": 85,
     "metadata": {
      "tags": []
     },
     "output_type": "execute_result"
    },
    {
     "data": {
      "image/png": "[encoded data removed]",
      "text/plain": [
       "<Figure size 432x288 with 2 Axes>"
      ]
     },
     "metadata": {
      "tags": []
     },
     "output_type": "display_data"
    }
   ],
   "source": [
    "print(\"Train data confusion matrix\")\n",
    "\n",
    "confusion_matrix_df_train = pd.DataFrame(confusion_matrix(project_y_train, predict_with_best_t(y_train_pred, best_t)), ['Actual: No','Actual: Yes'],['Predicted: No','Predicted: Yes'])\n",
    "sns.set(font_scale=1.4)#for label size\n",
    "sns.heatmap(confusion_matrix_df_train, annot=True,annot_kws={\"size\": 16}, fmt='g')"
   ]
  },
  {
   "cell_type": "code",
   "execution_count": 86,
   "metadata": {
    "colab": {
     "base_uri": "https://localhost:8080/"
    },
    "id": "v9c-4FTTqisg",
    "outputId": "0dc52c4d-d66b-4189-ea46-8f15a92ff459"
   },
   "outputs": [
    {
     "name": "stdout",
     "output_type": "stream",
     "text": [
      "Test confusion matrix\n",
      "[[ 3596  1863]\n",
      " [ 7892 22701]]\n"
     ]
    }
   ],
   "source": [
    "print(\"Test confusion matrix\")\n",
    "print(confusion_matrix(project_y_test, predict_with_best_t(y_test_pred, best_t)))"
   ]
  },
  {
   "cell_type": "code",
   "execution_count": 87,
   "metadata": {
    "colab": {
     "base_uri": "https://localhost:8080/",
     "height": 308
    },
    "id": "uXHGR-0rqisg",
    "outputId": "832e93df-4712-4e7d-c281-1d1fff2bb584"
   },
   "outputs": [
    {
     "name": "stdout",
     "output_type": "stream",
     "text": [
      "Test data confusion matrix\n"
     ]
    },
    {
     "data": {
      "text/plain": [
       "<matplotlib.axes._subplots.AxesSubplot at 0x7f63709ada50>"
      ]
     },
     "execution_count": 87,
     "metadata": {
      "tags": []
     },
     "output_type": "execute_result"
    },
    {
     "data": {
      "image/png": "[encoded data removed]",
      "text/plain": [
       "<Figure size 432x288 with 2 Axes>"
      ]
     },
     "metadata": {
      "tags": []
     },
     "output_type": "display_data"
    }
   ],
   "source": [
    "print(\"Test data confusion matrix\")\n",
    "\n",
    "confusion_matrix_df_test = pd.DataFrame(confusion_matrix(project_y_test, predict_with_best_t(y_test_pred, best_t)), ['Actual: No','Actual: Yes'],['Predicted: No','Predicted: Yes'])\n",
    "sns.set(font_scale=1.4)#for label size\n",
    "sns.heatmap(confusion_matrix_df_test, annot=True,annot_kws={\"size\": 16}, fmt='g')"
   ]
  },
  {
   "cell_type": "code",
   "execution_count": 88,
   "metadata": {
    "colab": {
     "base_uri": "https://localhost:8080/"
    },
    "id": "a1_8Zeyhqisg",
    "outputId": "df312215-15db-436d-9160-d4dee2cb8874"
   },
   "outputs": [
    {
     "name": "stdout",
     "output_type": "stream",
     "text": [
      "73196\n",
      "73196\n",
      "36052\n",
      "36052\n"
     ]
    }
   ],
   "source": [
    "print(len(train_tfidf_w2v_titles))\n",
    "print(len(train_tfidf_w2v_essays))\n",
    "print(len(test_tfidf_w2v_titles))\n",
    "print(len(test_tfidf_w2v_titles))"
   ]
  },
  {
   "cell_type": "code",
   "execution_count": 89,
   "metadata": {
    "id": "joj03T5-qish"
   },
   "outputs": [],
   "source": [
    "import numpy as np\n",
    "train_w2v_essays_np = np.array(train_tfidf_w2v_essays)\n",
    "train_w2v_titles_np = np.array(train_tfidf_w2v_titles)\n",
    "test_w2v_essays_np = np.array(test_tfidf_w2v_essays)\n",
    "test_w2v_titles_np = np.array(test_tfidf_w2v_titles)"
   ]
  },
  {
   "cell_type": "code",
   "execution_count": 90,
   "metadata": {
    "id": "zEhKjaBAqish"
   },
   "outputs": [],
   "source": [
    "from scipy.sparse import coo_matrix, hstack\n",
    "tr1 = coo_matrix(project_train_category_0)\n",
    "tr2 = coo_matrix(project_train_category_1)\n",
    "tr3 = coo_matrix(project_train_subcategory_0)\n",
    "tr4 = coo_matrix(project_train_subcategory_1)\n",
    "tr5 = coo_matrix(project_train_grade_0)\n",
    "tr6 = coo_matrix(project_train_grade_1)\n",
    "tr7 = coo_matrix(project_train_state_0)\n",
    "tr8 = coo_matrix(project_train_state_1)\n",
    "tr9 = coo_matrix(project_train_prefix_0)\n",
    "tr10 = coo_matrix(project_train_prefix_1)\n",
    "tr11 = coo_matrix(project_train_price)\n",
    "tr12 = coo_matrix(project_train_quantity)\n",
    "tr13 = coo_matrix(project_train_previousprojects)\n",
    "tr14 = coo_matrix(negative_tr)\n",
    "tr15 = coo_matrix(positive_tr)\n",
    "tr16 = coo_matrix(neutral_tr)\n",
    "tr17 = coo_matrix(compound_tr)\n",
    "tr18 = coo_matrix(train_w2v_essays_np)\n",
    "tr19 = coo_matrix(train_w2v_titles_np)\n",
    "te1 = coo_matrix(project_test_category_0)\n",
    "te2 = coo_matrix(project_test_category_1)\n",
    "te3 = coo_matrix(project_test_subcategory_0)\n",
    "te4 = coo_matrix(project_test_subcategory_1)\n",
    "te5 = coo_matrix(project_test_grade_0)\n",
    "te6 = coo_matrix(project_test_grade_1)\n",
    "te7 = coo_matrix(project_test_state_0)\n",
    "te8 = coo_matrix(project_test_state_1)\n",
    "te9 = coo_matrix(project_test_prefix_0)\n",
    "te10 = coo_matrix(project_test_prefix_1)\n",
    "te11 = coo_matrix(project_test_price)\n",
    "te12 = coo_matrix(project_test_quantity)\n",
    "te13 = coo_matrix(project_test_previousprojects)\n",
    "te14 = coo_matrix(negative_te)\n",
    "te15 = coo_matrix(positive_te)\n",
    "te16 = coo_matrix(neutral_te)\n",
    "te17 = coo_matrix(compound_te)\n",
    "te18 = coo_matrix(test_w2v_essays_np)\n",
    "te19 = coo_matrix(test_w2v_titles_np)"
   ]
  },
  {
   "cell_type": "code",
   "execution_count": 91,
   "metadata": {
    "id": "siaNConMqish"
   },
   "outputs": [],
   "source": [
    "X_train2 = hstack([tr1,tr2,tr3,tr4,tr5,tr6,tr7,tr8,tr9,tr10,tr11,tr12,tr13,tr18,tr19]).tocsr()\n",
    "X_test2 = hstack([te1,te2,te3,te4,te5,te6,te7,te8,te9,te10,te11,te12,te13,te18,te19]).tocsr()"
   ]
  },
  {
   "cell_type": "code",
   "execution_count": 92,
   "metadata": {
    "colab": {
     "base_uri": "https://localhost:8080/"
    },
    "id": "sp2SSKD9qish",
    "outputId": "7406aef9-785c-4d1e-f54e-5ab93810750a"
   },
   "outputs": [
    {
     "name": "stdout",
     "output_type": "stream",
     "text": [
      "0.7376718698225084\n",
      "LGBMClassifier(boosting_type='gbdt', class_weight=None, colsample_bytree=1.0,\n",
      "               importance_type='split', learning_rate=0.1, max_depth=3,\n",
      "               min_child_samples=20, min_child_weight=0.001, min_split_gain=0.0,\n",
      "               n_estimators=300, n_jobs=-1, num_leaves=31, objective=None,\n",
      "               random_state=None, reg_alpha=0.0, reg_lambda=0.0, silent=True,\n",
      "               subsample=1.0, subsample_for_bin=200000, subsample_freq=0)\n",
      "{'max_depth': 3, 'n_estimators': 300}\n"
     ]
    }
   ],
   "source": [
    "from sklearn.model_selection import GridSearchCV\n",
    "import lightgbm as lgbm\n",
    "\n",
    "gbdt2= lgbm.LGBMClassifier()\n",
    "\n",
    "grid_params = {'n_estimators': [10, 50, 100, 150, 200, 300, 500, 1000], 'max_depth':[2, 3, 4, 5, 6, 7, 8, 9, 10]}\n",
    " \n",
    "gs = GridSearchCV(gbdt2, grid_params, cv=3, scoring='roc_auc',return_train_score=True,n_jobs=-1)\n",
    "gs.fit(X_train2, project_y_train)\n",
    "print(gs.best_score_)\n",
    "print(gs.best_estimator_)\n",
    "print(gs.best_params_)"
   ]
  },
  {
   "cell_type": "code",
   "execution_count": 93,
   "metadata": {
    "colab": {
     "base_uri": "https://localhost:8080/"
    },
    "id": "UtQxzlFRqish",
    "outputId": "174e5dc6-3421-46f3-af07-860c9ab63045"
   },
   "outputs": [
    {
     "name": "stdout",
     "output_type": "stream",
     "text": [
      "Best score:  0.7376718698225084\n",
      "k value with best score:  {'max_depth': 3, 'n_estimators': 300}\n",
      "===========================================================================\n",
      "Train AUC scores\n",
      "[0.68753308 0.73129907 0.74884499 0.75995062 0.76927923 0.78431564\n",
      " 0.80796148 0.85056138 0.70928769 0.75511457 0.78056245 0.799886\n",
      " 0.81673333 0.84443698 0.88506082 0.9458945  0.72860372 0.78684636\n",
      " 0.82524889 0.85542507 0.87973989 0.91613571 0.95961745 0.99575941\n",
      " 0.75331662 0.83106749 0.88341243 0.91901273 0.9442622  0.97451251\n",
      " 0.99608427 0.99999771 0.75235069 0.84119826 0.90302094 0.93942725\n",
      " 0.96245939 0.98686216 0.99890595 0.99999961 0.75160451 0.84324912\n",
      " 0.90808621 0.94551045 0.96816728 0.98949243 0.99936081 0.99999977\n",
      " 0.75074254 0.84469922 0.91132253 0.94918934 0.97109212 0.99156378\n",
      " 0.99956896 0.99999979 0.7507062  0.84575761 0.91331392 0.95221217\n",
      " 0.97348611 0.99257964 0.99966329 0.99999987 0.75095262 0.84776807\n",
      " 0.9148869  0.95269643 0.97442126 0.99295278 0.99969404 0.99999987]\n",
      "CV AUC scores\n",
      "[0.68068458 0.71693693 0.72771588 0.73205367 0.73396396 0.73610237\n",
      " 0.73683506 0.7356413  0.69460613 0.72566191 0.73305996 0.73622007\n",
      " 0.73713085 0.73767187 0.73596884 0.72961552 0.70259734 0.72859995\n",
      " 0.73346633 0.73437402 0.73425538 0.73362354 0.73013076 0.72231308\n",
      " 0.7066791  0.73131443 0.73423946 0.73361623 0.73179155 0.72882903\n",
      " 0.72463457 0.71874151 0.70584964 0.73084571 0.73344572 0.73252177\n",
      " 0.73118539 0.7289303  0.72504484 0.72168268 0.70794731 0.73123183\n",
      " 0.73216258 0.73072319 0.72935944 0.72642504 0.72427514 0.72087544\n",
      " 0.70703746 0.73034619 0.73271089 0.73088991 0.72905652 0.72567724\n",
      " 0.72308682 0.71942567 0.70767842 0.73082084 0.73246308 0.73207437\n",
      " 0.7303346  0.72797479 0.72553419 0.72275193 0.70631809 0.72966173\n",
      " 0.73172636 0.73013693 0.72893722 0.72652674 0.72414256 0.71948818]\n"
     ]
    }
   ],
   "source": [
    "print('Best score: ',gs.best_score_)\n",
    "print('k value with best score: ',gs.best_params_)\n",
    "print('='*75)\n",
    "print('Train AUC scores')\n",
    "print(gs.cv_results_['mean_train_score'])\n",
    "print('CV AUC scores')\n",
    "print(gs.cv_results_['mean_test_score'])"
   ]
  },
  {
   "cell_type": "code",
   "execution_count": 94,
   "metadata": {
    "colab": {
     "base_uri": "https://localhost:8080/",
     "height": 410
    },
    "id": "n4Km6Fxtqisj",
    "outputId": "372d6427-8647-4e71-a13b-3cc6cdd5f2e6"
   },
   "outputs": [
    {
     "data": {
      "image/png": "[encoded data removed]",
      "text/plain": [
       "<Figure size 1440x432 with 4 Axes>"
      ]
     },
     "metadata": {
      "tags": []
     },
     "output_type": "display_data"
    }
   ],
   "source": [
    "import seaborn as sns; sns.set()\n",
    "max_scores1 = pd.DataFrame(gs.cv_results_).groupby(['param_n_estimators', 'param_max_depth']).max().unstack()[['mean_test_score', 'mean_train_score']]\n",
    "fig, ax = plt.subplots(1,2, figsize=(20,6))\n",
    "sns.heatmap(max_scores1.mean_train_score, annot = True, fmt='.4g', ax=ax[0])\n",
    "sns.heatmap(max_scores1.mean_test_score, annot = True, fmt='.4g', ax=ax[1])\n",
    "ax[0].set_title('Train Set')\n",
    "ax[1].set_title('CV Set')\n",
    "plt.show()"
   ]
  },
  {
   "cell_type": "code",
   "execution_count": 96,
   "metadata": {
    "id": "Mq3c-2zbqisk"
   },
   "outputs": [],
   "source": [
    "max_depth = gs.best_params_['max_depth']\n",
    "n_estimators = gs.best_params_['n_estimators']"
   ]
  },
  {
   "cell_type": "code",
   "execution_count": 97,
   "metadata": {
    "colab": {
     "base_uri": "https://localhost:8080/"
    },
    "id": "vildMNwuqisk",
    "outputId": "ece03c49-ac33-4678-bc4a-82e27649b46e"
   },
   "outputs": [
    {
     "name": "stdout",
     "output_type": "stream",
     "text": [
      "3\n",
      "300\n"
     ]
    }
   ],
   "source": [
    "print(max_depth)\n",
    "print(n_estimators)"
   ]
  },
  {
   "cell_type": "code",
   "execution_count": 98,
   "metadata": {
    "colab": {
     "base_uri": "https://localhost:8080/",
     "height": 301
    },
    "id": "MOyEhOKgqisk",
    "outputId": "81f679af-ad46-47bf-84e0-b3c8d4847f1f"
   },
   "outputs": [
    {
     "data": {
      "image/png": "[encoded data removed]",
      "text/plain": [
       "<Figure size 432x288 with 1 Axes>"
      ]
     },
     "metadata": {
      "tags": []
     },
     "output_type": "display_data"
    }
   ],
   "source": [
    "from sklearn.metrics import roc_curve, auc\n",
    "model = lgbm.LGBMClassifier(max_depth = max_depth, n_estimators = n_estimators)\n",
    "\n",
    "model.fit(X_train2,project_y_train)\n",
    "\n",
    "y_train_pred = model.predict_proba(X_train2)[:,1]     \n",
    "y_test_pred = model.predict_proba(X_test2)[:,1] \n",
    "\n",
    "train_fpr, train_tpr, tr_thresholds = roc_curve(project_y_train, y_train_pred)\n",
    "test_fpr, test_tpr, te_thresholds = roc_curve(project_y_test, y_test_pred)\n",
    "\n",
    "plt.plot(train_fpr, train_tpr, label=\"Train AUC =\"+str(auc(train_fpr, train_tpr)))\n",
    "plt.plot(test_fpr, test_tpr, label=\"Test AUC =\"+str(auc(test_fpr, test_tpr)))\n",
    "plt.legend()\n",
    "plt.xlabel(\"False Positive Rate\")\n",
    "plt.ylabel(\"True Positive Rate\")\n",
    "plt.title(\"AUC ROC Curve \")\n",
    "plt.grid(color='black', linestyle='-', linewidth=1)\n",
    "plt.show()"
   ]
  },
  {
   "cell_type": "code",
   "execution_count": 99,
   "metadata": {
    "id": "RuRqv4zQqisk"
   },
   "outputs": [],
   "source": [
    "def find_best_threshold(threshold, fpr, tpr):\n",
    "    t = threshold[np.argmax(tpr*(1-fpr))]\n",
    "    # (tpr*(1-fpr)) will be maximum if your fpr is very low and tpr is very high\n",
    "    print(\"the maximum value of tpr*(1-fpr)\", max(tpr*(1-fpr)), \"for threshold\", np.round(t,3))\n",
    "    return t\n",
    "\n",
    "def predict_with_best_t(proba, threshold):\n",
    "    \n",
    "    predictions = []\n",
    "    for i in proba:\n",
    "        if i>=threshold:\n",
    "            predictions.append(1)\n",
    "        else:\n",
    "            predictions.append(0)\n",
    "    return predictions"
   ]
  },
  {
   "cell_type": "code",
   "execution_count": 100,
   "metadata": {
    "colab": {
     "base_uri": "https://localhost:8080/"
    },
    "id": "n6Yub7VOqisk",
    "outputId": "1e40b663-7890-45d0-df69-fe5286d5a008"
   },
   "outputs": [
    {
     "name": "stdout",
     "output_type": "stream",
     "text": [
      "the maximum value of tpr*(1-fpr) 0.5476216439492807 for threshold 0.829\n",
      "Train confusion matrix\n",
      "[[ 7993  3090]\n",
      " [14949 47164]]\n"
     ]
    }
   ],
   "source": [
    "best_t = find_best_threshold(tr_thresholds, train_fpr, train_tpr)\n",
    "print(\"Train confusion matrix\")\n",
    "print(confusion_matrix(project_y_train, predict_with_best_t(y_train_pred, best_t)))"
   ]
  },
  {
   "cell_type": "code",
   "execution_count": 101,
   "metadata": {
    "colab": {
     "base_uri": "https://localhost:8080/",
     "height": 308
    },
    "id": "as7SbNj7qisk",
    "outputId": "18bd0abe-3e17-4539-98c0-4b8f8daae0a2"
   },
   "outputs": [
    {
     "name": "stdout",
     "output_type": "stream",
     "text": [
      "Train data confusion matrix\n"
     ]
    },
    {
     "data": {
      "text/plain": [
       "<matplotlib.axes._subplots.AxesSubplot at 0x7f6370972cd0>"
      ]
     },
     "execution_count": 101,
     "metadata": {
      "tags": []
     },
     "output_type": "execute_result"
    },
    {
     "data": {
      "image/png": "[encoded data removed]",
      "text/plain": [
       "<Figure size 432x288 with 2 Axes>"
      ]
     },
     "metadata": {
      "tags": []
     },
     "output_type": "display_data"
    }
   ],
   "source": [
    "print(\"Train data confusion matrix\")\n",
    "\n",
    "confusion_matrix_df_train = pd.DataFrame(confusion_matrix(project_y_train, predict_with_best_t(y_train_pred, best_t)), ['Actual: No','Actual: Yes'],['Predicted: No','Predicted: Yes'])\n",
    "sns.set(font_scale=1.4)#for label size\n",
    "sns.heatmap(confusion_matrix_df_train, annot=True,annot_kws={\"size\": 16}, fmt='g')"
   ]
  },
  {
   "cell_type": "code",
   "execution_count": 102,
   "metadata": {
    "colab": {
     "base_uri": "https://localhost:8080/"
    },
    "id": "jrME5R88qisl",
    "outputId": "089eb319-4f80-4541-9c46-0bf3677875e3"
   },
   "outputs": [
    {
     "name": "stdout",
     "output_type": "stream",
     "text": [
      "Test confusion matrix\n",
      "[[ 3391  2068]\n",
      " [ 8111 22482]]\n"
     ]
    }
   ],
   "source": [
    "print(\"Test confusion matrix\")\n",
    "print(confusion_matrix(project_y_test, predict_with_best_t(y_test_pred, best_t)))"
   ]
  },
  {
   "cell_type": "code",
   "execution_count": 103,
   "metadata": {
    "colab": {
     "base_uri": "https://localhost:8080/",
     "height": 308
    },
    "id": "ZBXWAkVxqisl",
    "outputId": "1d4695cf-e207-4151-c042-5bbff8fbc6b2"
   },
   "outputs": [
    {
     "name": "stdout",
     "output_type": "stream",
     "text": [
      "Test data confusion matrix\n"
     ]
    },
    {
     "data": {
      "text/plain": [
       "<matplotlib.axes._subplots.AxesSubplot at 0x7f6370f66d10>"
      ]
     },
     "execution_count": 103,
     "metadata": {
      "tags": []
     },
     "output_type": "execute_result"
    },
    {
     "data": {
      "image/png": "[encoded data removed]",
      "text/plain": [
       "<Figure size 432x288 with 2 Axes>"
      ]
     },
     "metadata": {
      "tags": []
     },
     "output_type": "display_data"
    }
   ],
   "source": [
    "print(\"Test data confusion matrix\")\n",
    "\n",
    "confusion_matrix_df_test = pd.DataFrame(confusion_matrix(project_y_test, predict_with_best_t(y_test_pred, best_t)), ['Actual: No','Actual: Yes'],['Predicted: No','Predicted: Yes'])\n",
    "sns.set(font_scale=1.4)#for label size\n",
    "sns.heatmap(confusion_matrix_df_test, annot=True,annot_kws={\"size\": 16}, fmt='g')"
   ]
  },
  {
   "cell_type": "markdown",
   "metadata": {
    "id": "O5tWox1jsc3_"
   },
   "source": [
    "<br>Apply GBDT on different kind of featurization as mentioned in the instructions\n",
    "<br> For Every model that you work on make sure you do the step 2 and step 3 of instrucations"
   ]
  },
  {
   "cell_type": "markdown",
   "metadata": {
    "id": "YhFN-lDWsc4G"
   },
   "source": [
    "<h1>3. Summary</h1>\n",
    "\n",
    "<br> as mentioned in the step 4 of instructions"
   ]
  },
  {
   "cell_type": "code",
   "execution_count": 104,
   "metadata": {
    "id": "8Y5SMEmL4zs1"
   },
   "outputs": [],
   "source": [
    "from prettytable import PrettyTable\n",
    "tb = PrettyTable()\n",
    "tb.field_names= (\" Vectorizer \", \" Max_depth \", \" N_estimators \",\" Test -AUC \")\n",
    "tb.add_row([\" Tfidf\", 2 , 1000 , 76.46 ])\n",
    "tb.add_row([\" Tfidf-W2V\", 3, 300, 74.41])"
   ]
  },
  {
   "cell_type": "code",
   "execution_count": 105,
   "metadata": {
    "colab": {
     "base_uri": "https://localhost:8080/"
    },
    "id": "qE53laMb6Tl3",
    "outputId": "a46c2e95-bb1b-4590-d688-fe7c54a198d6"
   },
   "outputs": [
    {
     "name": "stdout",
     "output_type": "stream",
     "text": [
      "+--------------+-------------+----------------+-------------+\n",
      "|  Vectorizer  |  Max_depth  |  N_estimators  |  Test -AUC  |\n",
      "+--------------+-------------+----------------+-------------+\n",
      "|     Tfidf    |      2      |      1000      |    76.46    |\n",
      "|   Tfidf-W2V  |      3      |      300       |    74.41    |\n",
      "+--------------+-------------+----------------+-------------+\n"
     ]
    }
   ],
   "source": [
    "print(tb.get_string(titles = \"Gradient Boosted Decision trees- Observations\"))"
   ]
  }
 ],
 "metadata": {
  "accelerator": "GPU",
  "colab": {
   "collapsed_sections": [],
   "name": "GBDTAssignment.ipynb",
   "provenance": []
  },
  "kernelspec": {
   "display_name": "Python 3",
   "language": "python",
   "name": "python3"
  },
  "language_info": {
   "codemirror_mode": {
    "name": "ipython",
    "version": 3
   },
   "file_extension": ".py",
   "mimetype": "text/x-python",
   "name": "python",
   "nbconvert_exporter": "python",
   "pygments_lexer": "ipython3",
   "version": "3.8.5"
  }
 },
 "nbformat": 4,
 "nbformat_minor": 1
}
